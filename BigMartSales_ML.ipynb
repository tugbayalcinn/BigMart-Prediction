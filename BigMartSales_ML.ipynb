{
 "cells": [
  {
   "cell_type": "code",
   "execution_count": 1,
   "id": "f309d91f-3f3d-4743-837a-1fb0b72414b3",
   "metadata": {},
   "outputs": [],
   "source": [
    "import pandas as pd\n",
    "import matplotlib.pyplot as plt\n",
    "import numpy as np\n",
    "import seaborn as sns"
   ]
  },
  {
   "cell_type": "code",
   "execution_count": 2,
   "id": "e7ed0524-913b-46c6-b94f-c68aed73b7d4",
   "metadata": {},
   "outputs": [],
   "source": [
    "df_train= pd.read_csv(\"C:/Users/User/Desktop/BigMartMacinelearning/Train.csv\")"
   ]
  },
  {
   "cell_type": "code",
   "execution_count": 3,
   "id": "da211a6a-363b-4593-8708-7dee8fdf036f",
   "metadata": {},
   "outputs": [
    {
     "data": {
      "text/html": [
       "<div>\n",
       "<style scoped>\n",
       "    .dataframe tbody tr th:only-of-type {\n",
       "        vertical-align: middle;\n",
       "    }\n",
       "\n",
       "    .dataframe tbody tr th {\n",
       "        vertical-align: top;\n",
       "    }\n",
       "\n",
       "    .dataframe thead th {\n",
       "        text-align: right;\n",
       "    }\n",
       "</style>\n",
       "<table border=\"1\" class=\"dataframe\">\n",
       "  <thead>\n",
       "    <tr style=\"text-align: right;\">\n",
       "      <th></th>\n",
       "      <th>Item_Identifier</th>\n",
       "      <th>Item_Weight</th>\n",
       "      <th>Item_Fat_Content</th>\n",
       "      <th>Item_Visibility</th>\n",
       "      <th>Item_Type</th>\n",
       "      <th>Item_MRP</th>\n",
       "      <th>Outlet_Identifier</th>\n",
       "      <th>Outlet_Establishment_Year</th>\n",
       "      <th>Outlet_Size</th>\n",
       "      <th>Outlet_Location_Type</th>\n",
       "      <th>Outlet_Type</th>\n",
       "      <th>Item_Outlet_Sales</th>\n",
       "    </tr>\n",
       "  </thead>\n",
       "  <tbody>\n",
       "    <tr>\n",
       "      <th>0</th>\n",
       "      <td>FDA15</td>\n",
       "      <td>9.300</td>\n",
       "      <td>Low Fat</td>\n",
       "      <td>0.016047</td>\n",
       "      <td>Dairy</td>\n",
       "      <td>249.8092</td>\n",
       "      <td>OUT049</td>\n",
       "      <td>1999</td>\n",
       "      <td>Medium</td>\n",
       "      <td>Tier 1</td>\n",
       "      <td>Supermarket Type1</td>\n",
       "      <td>3735.1380</td>\n",
       "    </tr>\n",
       "    <tr>\n",
       "      <th>1</th>\n",
       "      <td>DRC01</td>\n",
       "      <td>5.920</td>\n",
       "      <td>Regular</td>\n",
       "      <td>0.019278</td>\n",
       "      <td>Soft Drinks</td>\n",
       "      <td>48.2692</td>\n",
       "      <td>OUT018</td>\n",
       "      <td>2009</td>\n",
       "      <td>Medium</td>\n",
       "      <td>Tier 3</td>\n",
       "      <td>Supermarket Type2</td>\n",
       "      <td>443.4228</td>\n",
       "    </tr>\n",
       "    <tr>\n",
       "      <th>2</th>\n",
       "      <td>FDN15</td>\n",
       "      <td>17.500</td>\n",
       "      <td>Low Fat</td>\n",
       "      <td>0.016760</td>\n",
       "      <td>Meat</td>\n",
       "      <td>141.6180</td>\n",
       "      <td>OUT049</td>\n",
       "      <td>1999</td>\n",
       "      <td>Medium</td>\n",
       "      <td>Tier 1</td>\n",
       "      <td>Supermarket Type1</td>\n",
       "      <td>2097.2700</td>\n",
       "    </tr>\n",
       "    <tr>\n",
       "      <th>3</th>\n",
       "      <td>FDX07</td>\n",
       "      <td>19.200</td>\n",
       "      <td>Regular</td>\n",
       "      <td>0.000000</td>\n",
       "      <td>Fruits and Vegetables</td>\n",
       "      <td>182.0950</td>\n",
       "      <td>OUT010</td>\n",
       "      <td>1998</td>\n",
       "      <td>NaN</td>\n",
       "      <td>Tier 3</td>\n",
       "      <td>Grocery Store</td>\n",
       "      <td>732.3800</td>\n",
       "    </tr>\n",
       "    <tr>\n",
       "      <th>4</th>\n",
       "      <td>NCD19</td>\n",
       "      <td>8.930</td>\n",
       "      <td>Low Fat</td>\n",
       "      <td>0.000000</td>\n",
       "      <td>Household</td>\n",
       "      <td>53.8614</td>\n",
       "      <td>OUT013</td>\n",
       "      <td>1987</td>\n",
       "      <td>High</td>\n",
       "      <td>Tier 3</td>\n",
       "      <td>Supermarket Type1</td>\n",
       "      <td>994.7052</td>\n",
       "    </tr>\n",
       "    <tr>\n",
       "      <th>5</th>\n",
       "      <td>FDP36</td>\n",
       "      <td>10.395</td>\n",
       "      <td>Regular</td>\n",
       "      <td>0.000000</td>\n",
       "      <td>Baking Goods</td>\n",
       "      <td>51.4008</td>\n",
       "      <td>OUT018</td>\n",
       "      <td>2009</td>\n",
       "      <td>Medium</td>\n",
       "      <td>Tier 3</td>\n",
       "      <td>Supermarket Type2</td>\n",
       "      <td>556.6088</td>\n",
       "    </tr>\n",
       "    <tr>\n",
       "      <th>6</th>\n",
       "      <td>FDO10</td>\n",
       "      <td>13.650</td>\n",
       "      <td>Regular</td>\n",
       "      <td>0.012741</td>\n",
       "      <td>Snack Foods</td>\n",
       "      <td>57.6588</td>\n",
       "      <td>OUT013</td>\n",
       "      <td>1987</td>\n",
       "      <td>High</td>\n",
       "      <td>Tier 3</td>\n",
       "      <td>Supermarket Type1</td>\n",
       "      <td>343.5528</td>\n",
       "    </tr>\n",
       "    <tr>\n",
       "      <th>7</th>\n",
       "      <td>FDP10</td>\n",
       "      <td>NaN</td>\n",
       "      <td>Low Fat</td>\n",
       "      <td>0.127470</td>\n",
       "      <td>Snack Foods</td>\n",
       "      <td>107.7622</td>\n",
       "      <td>OUT027</td>\n",
       "      <td>1985</td>\n",
       "      <td>Medium</td>\n",
       "      <td>Tier 3</td>\n",
       "      <td>Supermarket Type3</td>\n",
       "      <td>4022.7636</td>\n",
       "    </tr>\n",
       "    <tr>\n",
       "      <th>8</th>\n",
       "      <td>FDH17</td>\n",
       "      <td>16.200</td>\n",
       "      <td>Regular</td>\n",
       "      <td>0.016687</td>\n",
       "      <td>Frozen Foods</td>\n",
       "      <td>96.9726</td>\n",
       "      <td>OUT045</td>\n",
       "      <td>2002</td>\n",
       "      <td>NaN</td>\n",
       "      <td>Tier 2</td>\n",
       "      <td>Supermarket Type1</td>\n",
       "      <td>1076.5986</td>\n",
       "    </tr>\n",
       "    <tr>\n",
       "      <th>9</th>\n",
       "      <td>FDU28</td>\n",
       "      <td>19.200</td>\n",
       "      <td>Regular</td>\n",
       "      <td>0.094450</td>\n",
       "      <td>Frozen Foods</td>\n",
       "      <td>187.8214</td>\n",
       "      <td>OUT017</td>\n",
       "      <td>2007</td>\n",
       "      <td>NaN</td>\n",
       "      <td>Tier 2</td>\n",
       "      <td>Supermarket Type1</td>\n",
       "      <td>4710.5350</td>\n",
       "    </tr>\n",
       "  </tbody>\n",
       "</table>\n",
       "</div>"
      ],
      "text/plain": [
       "  Item_Identifier  Item_Weight Item_Fat_Content  Item_Visibility  \\\n",
       "0           FDA15        9.300          Low Fat         0.016047   \n",
       "1           DRC01        5.920          Regular         0.019278   \n",
       "2           FDN15       17.500          Low Fat         0.016760   \n",
       "3           FDX07       19.200          Regular         0.000000   \n",
       "4           NCD19        8.930          Low Fat         0.000000   \n",
       "5           FDP36       10.395          Regular         0.000000   \n",
       "6           FDO10       13.650          Regular         0.012741   \n",
       "7           FDP10          NaN          Low Fat         0.127470   \n",
       "8           FDH17       16.200          Regular         0.016687   \n",
       "9           FDU28       19.200          Regular         0.094450   \n",
       "\n",
       "               Item_Type  Item_MRP Outlet_Identifier  \\\n",
       "0                  Dairy  249.8092            OUT049   \n",
       "1            Soft Drinks   48.2692            OUT018   \n",
       "2                   Meat  141.6180            OUT049   \n",
       "3  Fruits and Vegetables  182.0950            OUT010   \n",
       "4              Household   53.8614            OUT013   \n",
       "5           Baking Goods   51.4008            OUT018   \n",
       "6            Snack Foods   57.6588            OUT013   \n",
       "7            Snack Foods  107.7622            OUT027   \n",
       "8           Frozen Foods   96.9726            OUT045   \n",
       "9           Frozen Foods  187.8214            OUT017   \n",
       "\n",
       "   Outlet_Establishment_Year Outlet_Size Outlet_Location_Type  \\\n",
       "0                       1999      Medium               Tier 1   \n",
       "1                       2009      Medium               Tier 3   \n",
       "2                       1999      Medium               Tier 1   \n",
       "3                       1998         NaN               Tier 3   \n",
       "4                       1987        High               Tier 3   \n",
       "5                       2009      Medium               Tier 3   \n",
       "6                       1987        High               Tier 3   \n",
       "7                       1985      Medium               Tier 3   \n",
       "8                       2002         NaN               Tier 2   \n",
       "9                       2007         NaN               Tier 2   \n",
       "\n",
       "         Outlet_Type  Item_Outlet_Sales  \n",
       "0  Supermarket Type1          3735.1380  \n",
       "1  Supermarket Type2           443.4228  \n",
       "2  Supermarket Type1          2097.2700  \n",
       "3      Grocery Store           732.3800  \n",
       "4  Supermarket Type1           994.7052  \n",
       "5  Supermarket Type2           556.6088  \n",
       "6  Supermarket Type1           343.5528  \n",
       "7  Supermarket Type3          4022.7636  \n",
       "8  Supermarket Type1          1076.5986  \n",
       "9  Supermarket Type1          4710.5350  "
      ]
     },
     "execution_count": 3,
     "metadata": {},
     "output_type": "execute_result"
    }
   ],
   "source": [
    "df_train.head(10)"
   ]
  },
  {
   "cell_type": "code",
   "execution_count": 4,
   "id": "00cc8e24-150b-41c9-a4c6-4a800b81822e",
   "metadata": {},
   "outputs": [
    {
     "data": {
      "text/html": [
       "<div>\n",
       "<style scoped>\n",
       "    .dataframe tbody tr th:only-of-type {\n",
       "        vertical-align: middle;\n",
       "    }\n",
       "\n",
       "    .dataframe tbody tr th {\n",
       "        vertical-align: top;\n",
       "    }\n",
       "\n",
       "    .dataframe thead th {\n",
       "        text-align: right;\n",
       "    }\n",
       "</style>\n",
       "<table border=\"1\" class=\"dataframe\">\n",
       "  <thead>\n",
       "    <tr style=\"text-align: right;\">\n",
       "      <th></th>\n",
       "      <th>Item_Weight</th>\n",
       "      <th>Item_Visibility</th>\n",
       "      <th>Item_MRP</th>\n",
       "      <th>Outlet_Establishment_Year</th>\n",
       "      <th>Item_Outlet_Sales</th>\n",
       "    </tr>\n",
       "  </thead>\n",
       "  <tbody>\n",
       "    <tr>\n",
       "      <th>count</th>\n",
       "      <td>7060.000000</td>\n",
       "      <td>8523.000000</td>\n",
       "      <td>8523.000000</td>\n",
       "      <td>8523.000000</td>\n",
       "      <td>8523.000000</td>\n",
       "    </tr>\n",
       "    <tr>\n",
       "      <th>mean</th>\n",
       "      <td>12.857645</td>\n",
       "      <td>0.066132</td>\n",
       "      <td>140.992782</td>\n",
       "      <td>1997.831867</td>\n",
       "      <td>2181.288914</td>\n",
       "    </tr>\n",
       "    <tr>\n",
       "      <th>std</th>\n",
       "      <td>4.643456</td>\n",
       "      <td>0.051598</td>\n",
       "      <td>62.275067</td>\n",
       "      <td>8.371760</td>\n",
       "      <td>1706.499616</td>\n",
       "    </tr>\n",
       "    <tr>\n",
       "      <th>min</th>\n",
       "      <td>4.555000</td>\n",
       "      <td>0.000000</td>\n",
       "      <td>31.290000</td>\n",
       "      <td>1985.000000</td>\n",
       "      <td>33.290000</td>\n",
       "    </tr>\n",
       "    <tr>\n",
       "      <th>25%</th>\n",
       "      <td>8.773750</td>\n",
       "      <td>0.026989</td>\n",
       "      <td>93.826500</td>\n",
       "      <td>1987.000000</td>\n",
       "      <td>834.247400</td>\n",
       "    </tr>\n",
       "    <tr>\n",
       "      <th>50%</th>\n",
       "      <td>12.600000</td>\n",
       "      <td>0.053931</td>\n",
       "      <td>143.012800</td>\n",
       "      <td>1999.000000</td>\n",
       "      <td>1794.331000</td>\n",
       "    </tr>\n",
       "    <tr>\n",
       "      <th>75%</th>\n",
       "      <td>16.850000</td>\n",
       "      <td>0.094585</td>\n",
       "      <td>185.643700</td>\n",
       "      <td>2004.000000</td>\n",
       "      <td>3101.296400</td>\n",
       "    </tr>\n",
       "    <tr>\n",
       "      <th>max</th>\n",
       "      <td>21.350000</td>\n",
       "      <td>0.328391</td>\n",
       "      <td>266.888400</td>\n",
       "      <td>2009.000000</td>\n",
       "      <td>13086.964800</td>\n",
       "    </tr>\n",
       "  </tbody>\n",
       "</table>\n",
       "</div>"
      ],
      "text/plain": [
       "       Item_Weight  Item_Visibility     Item_MRP  Outlet_Establishment_Year  \\\n",
       "count  7060.000000      8523.000000  8523.000000                8523.000000   \n",
       "mean     12.857645         0.066132   140.992782                1997.831867   \n",
       "std       4.643456         0.051598    62.275067                   8.371760   \n",
       "min       4.555000         0.000000    31.290000                1985.000000   \n",
       "25%       8.773750         0.026989    93.826500                1987.000000   \n",
       "50%      12.600000         0.053931   143.012800                1999.000000   \n",
       "75%      16.850000         0.094585   185.643700                2004.000000   \n",
       "max      21.350000         0.328391   266.888400                2009.000000   \n",
       "\n",
       "       Item_Outlet_Sales  \n",
       "count        8523.000000  \n",
       "mean         2181.288914  \n",
       "std          1706.499616  \n",
       "min            33.290000  \n",
       "25%           834.247400  \n",
       "50%          1794.331000  \n",
       "75%          3101.296400  \n",
       "max         13086.964800  "
      ]
     },
     "execution_count": 4,
     "metadata": {},
     "output_type": "execute_result"
    }
   ],
   "source": [
    "df_train.describe()"
   ]
  },
  {
   "cell_type": "code",
   "execution_count": 5,
   "id": "655289a5-875a-44cc-bc97-1ea552c38031",
   "metadata": {},
   "outputs": [
    {
     "name": "stdout",
     "output_type": "stream",
     "text": [
      "<class 'pandas.core.frame.DataFrame'>\n",
      "RangeIndex: 8523 entries, 0 to 8522\n",
      "Data columns (total 12 columns):\n",
      " #   Column                     Non-Null Count  Dtype  \n",
      "---  ------                     --------------  -----  \n",
      " 0   Item_Identifier            8523 non-null   object \n",
      " 1   Item_Weight                7060 non-null   float64\n",
      " 2   Item_Fat_Content           8523 non-null   object \n",
      " 3   Item_Visibility            8523 non-null   float64\n",
      " 4   Item_Type                  8523 non-null   object \n",
      " 5   Item_MRP                   8523 non-null   float64\n",
      " 6   Outlet_Identifier          8523 non-null   object \n",
      " 7   Outlet_Establishment_Year  8523 non-null   int64  \n",
      " 8   Outlet_Size                6113 non-null   object \n",
      " 9   Outlet_Location_Type       8523 non-null   object \n",
      " 10  Outlet_Type                8523 non-null   object \n",
      " 11  Item_Outlet_Sales          8523 non-null   float64\n",
      "dtypes: float64(4), int64(1), object(7)\n",
      "memory usage: 799.2+ KB\n"
     ]
    }
   ],
   "source": [
    "df_train.info()"
   ]
  },
  {
   "cell_type": "code",
   "execution_count": 6,
   "id": "135dd8db-6612-40d6-a397-34b739ff5289",
   "metadata": {},
   "outputs": [
    {
     "data": {
      "text/plain": [
       "(8523, 12)"
      ]
     },
     "execution_count": 6,
     "metadata": {},
     "output_type": "execute_result"
    }
   ],
   "source": [
    "df_train.shape"
   ]
  },
  {
   "cell_type": "code",
   "execution_count": 7,
   "id": "23819741-0f00-484d-a1c1-3b058b08b06d",
   "metadata": {},
   "outputs": [
    {
     "data": {
      "text/plain": [
       "Item_Identifier                 0\n",
       "Item_Weight                  1463\n",
       "Item_Fat_Content                0\n",
       "Item_Visibility                 0\n",
       "Item_Type                       0\n",
       "Item_MRP                        0\n",
       "Outlet_Identifier               0\n",
       "Outlet_Establishment_Year       0\n",
       "Outlet_Size                  2410\n",
       "Outlet_Location_Type            0\n",
       "Outlet_Type                     0\n",
       "Item_Outlet_Sales               0\n",
       "dtype: int64"
      ]
     },
     "execution_count": 7,
     "metadata": {},
     "output_type": "execute_result"
    }
   ],
   "source": [
    "df_train.isnull().sum()"
   ]
  },
  {
   "cell_type": "code",
   "execution_count": 8,
   "id": "00b3053a-7d0c-496f-9655-a0027d0bbeff",
   "metadata": {},
   "outputs": [
    {
     "name": "stdout",
     "output_type": "stream",
     "text": [
      "Item_Weight    1463\n",
      "Outlet_Size    2410\n",
      "dtype: int64\n"
     ]
    }
   ],
   "source": [
    "missing_values = df_train.isnull().sum()\n",
    "missing_values = missing_values[missing_values > 0]  # Sadece eksik değeri olanları al\n",
    "\n",
    "print(missing_values)"
   ]
  },
  {
   "cell_type": "code",
   "execution_count": 9,
   "id": "c18993b8-0910-447b-8e73-7a68aa360a95",
   "metadata": {},
   "outputs": [],
   "source": [
    "# EKSİK VERİLERİN DOLDURULMASI VE KATEGORİLERİN DÜZENLENMESİ"
   ]
  },
  {
   "cell_type": "code",
   "execution_count": 10,
   "id": "df36ba5b-07c6-4705-babd-e2976eccd214",
   "metadata": {},
   "outputs": [],
   "source": [
    "# Aynı Item_Identifier'e sahip ürünlerin ortalama ağırlığı ile eksikleri dolduralım\n",
    "\n",
    "df_train[\"Item_Weight\"].fillna(df_train.groupby(\"Item_Identifier\")[\"Item_Weight\"].transform(\"mean\"), inplace=True)\n",
    "\n",
    "\n"
   ]
  },
  {
   "cell_type": "code",
   "execution_count": 11,
   "id": "34d02a4c-7182-4002-abb5-3e7e0fdda915",
   "metadata": {},
   "outputs": [],
   "source": [
    "# Aynı Outlet_Type'e göre en sık geçen  değeri kullanarak eksikleri dolduralım\n",
    "mode_outlet_size = df_train.pivot_table(values=\"Outlet_Size\", index=\"Outlet_Type\", aggfunc=lambda x: x.mode()[0])\n"
   ]
  },
  {
   "cell_type": "code",
   "execution_count": 12,
   "id": "2ace0882-93c8-4ea8-96fe-e130f749f2a9",
   "metadata": {},
   "outputs": [],
   "source": [
    "missing_outlet_mask = df_train[\"Outlet_Size\"].isnull()\n",
    "\n",
    "df_train.loc[missing_outlet_mask, \"Outlet_Size\"] = df_train.loc[missing_outlet_mask, \"Outlet_Type\"].map(mode_outlet_size.to_dict()[\"Outlet_Size\"])"
   ]
  },
  {
   "cell_type": "code",
   "execution_count": 13,
   "id": "f75ba92d-31eb-4664-a2ca-db9165ee7074",
   "metadata": {},
   "outputs": [
    {
     "data": {
      "text/plain": [
       "Item_Identifier              0\n",
       "Item_Weight                  4\n",
       "Item_Fat_Content             0\n",
       "Item_Visibility              0\n",
       "Item_Type                    0\n",
       "Item_MRP                     0\n",
       "Outlet_Identifier            0\n",
       "Outlet_Establishment_Year    0\n",
       "Outlet_Size                  0\n",
       "Outlet_Location_Type         0\n",
       "Outlet_Type                  0\n",
       "Item_Outlet_Sales            0\n",
       "dtype: int64"
      ]
     },
     "execution_count": 13,
     "metadata": {},
     "output_type": "execute_result"
    }
   ],
   "source": [
    "df_train.isnull().sum()"
   ]
  },
  {
   "cell_type": "code",
   "execution_count": 14,
   "id": "37a36e34-5374-4126-ae0e-81fe93f2cdd8",
   "metadata": {},
   "outputs": [],
   "source": [
    "df_train[\"Item_Weight\"].fillna(df_train[\"Item_Weight\"].mean(), inplace=True)\n",
    "# 4 satır hala boş"
   ]
  },
  {
   "cell_type": "code",
   "execution_count": 15,
   "id": "1cc8486e-88a0-4f5f-bc94-234eb060f654",
   "metadata": {},
   "outputs": [
    {
     "data": {
      "text/plain": [
       "Item_Identifier              0\n",
       "Item_Weight                  0\n",
       "Item_Fat_Content             0\n",
       "Item_Visibility              0\n",
       "Item_Type                    0\n",
       "Item_MRP                     0\n",
       "Outlet_Identifier            0\n",
       "Outlet_Establishment_Year    0\n",
       "Outlet_Size                  0\n",
       "Outlet_Location_Type         0\n",
       "Outlet_Type                  0\n",
       "Item_Outlet_Sales            0\n",
       "dtype: int64"
      ]
     },
     "execution_count": 15,
     "metadata": {},
     "output_type": "execute_result"
    }
   ],
   "source": [
    "df_train.isnull().sum()\n"
   ]
  },
  {
   "cell_type": "code",
   "execution_count": 16,
   "id": "2b3d8815-5fc4-43da-b2e5-422c59a88d8c",
   "metadata": {},
   "outputs": [
    {
     "data": {
      "text/plain": [
       "array(['Medium', 'Small', 'High'], dtype=object)"
      ]
     },
     "execution_count": 16,
     "metadata": {},
     "output_type": "execute_result"
    }
   ],
   "source": [
    "df_train[\"Outlet_Size\"].unique()"
   ]
  },
  {
   "cell_type": "code",
   "execution_count": 17,
   "id": "28d448a2-4354-4bb6-89f1-02817e928bd1",
   "metadata": {},
   "outputs": [
    {
     "data": {
      "text/plain": [
       "array(['Low Fat', 'Regular', 'low fat', 'LF', 'reg'], dtype=object)"
      ]
     },
     "execution_count": 17,
     "metadata": {},
     "output_type": "execute_result"
    }
   ],
   "source": [
    "df_train[\"Item_Fat_Content\"].unique()\n"
   ]
  },
  {
   "cell_type": "code",
   "execution_count": 18,
   "id": "322818b2-4ef8-49e1-902f-188042105101",
   "metadata": {},
   "outputs": [],
   "source": [
    "#Item_Fat_Content de 'Low Fat', 'Regular', 'low fat', 'LF', 'reg'değerlerini düzeltelim."
   ]
  },
  {
   "cell_type": "code",
   "execution_count": 19,
   "id": "2efeac5e-cda1-4aa5-b652-c5b9b397a524",
   "metadata": {},
   "outputs": [],
   "source": [
    "df_train[\"Item_Fat_Content\"] = df_train[\"Item_Fat_Content\"].replace({\n",
    "    \"LF\": \"Low Fat\",\n",
    "    \"low fat\": \"Low Fat\",\n",
    "    \"reg\": \"Regular\"\n",
    "})\n"
   ]
  },
  {
   "cell_type": "code",
   "execution_count": 20,
   "id": "5798aad9-260f-4e8e-a7af-d5538e1eaf06",
   "metadata": {},
   "outputs": [
    {
     "data": {
      "text/plain": [
       "array(['Low Fat', 'Regular'], dtype=object)"
      ]
     },
     "execution_count": 20,
     "metadata": {},
     "output_type": "execute_result"
    }
   ],
   "source": [
    "df_train[\"Item_Fat_Content\"].unique()"
   ]
  },
  {
   "cell_type": "code",
   "execution_count": 24,
   "id": "608e4a86-faa1-41e7-80df-184af4395473",
   "metadata": {},
   "outputs": [
    {
     "data": {
      "text/plain": [
       "array(['Dairy', 'Soft Drinks', 'Meat', 'Fruits and Vegetables',\n",
       "       'Household', 'Baking Goods', 'Snack Foods', 'Frozen Foods',\n",
       "       'Breakfast', 'Health and Hygiene', 'Hard Drinks', 'Canned',\n",
       "       'Breads', 'Starchy Foods', 'Others', 'Seafood'], dtype=object)"
      ]
     },
     "execution_count": 24,
     "metadata": {},
     "output_type": "execute_result"
    }
   ],
   "source": [
    "df_train[\"Item_Type\"].unique()"
   ]
  },
  {
   "cell_type": "code",
   "execution_count": 25,
   "id": "93bc0b2f-7107-4b00-b4a7-c04366169272",
   "metadata": {},
   "outputs": [
    {
     "data": {
      "text/plain": [
       "array(['OUT049', 'OUT018', 'OUT010', 'OUT013', 'OUT027', 'OUT045',\n",
       "       'OUT017', 'OUT046', 'OUT035', 'OUT019'], dtype=object)"
      ]
     },
     "execution_count": 25,
     "metadata": {},
     "output_type": "execute_result"
    }
   ],
   "source": [
    "df_train[\"Outlet_Identifier\"].unique()"
   ]
  },
  {
   "cell_type": "code",
   "execution_count": 26,
   "id": "77a241d8-c727-4cd9-adcb-fdfcdf41f8da",
   "metadata": {},
   "outputs": [
    {
     "data": {
      "text/plain": [
       "array(['Tier 1', 'Tier 3', 'Tier 2'], dtype=object)"
      ]
     },
     "execution_count": 26,
     "metadata": {},
     "output_type": "execute_result"
    }
   ],
   "source": [
    "df_train[\"Outlet_Location_Type\"].unique()"
   ]
  },
  {
   "cell_type": "code",
   "execution_count": 27,
   "id": "7c0abefe-f2b0-4b2b-9795-27aa86d22605",
   "metadata": {},
   "outputs": [
    {
     "data": {
      "text/plain": [
       "array(['Supermarket Type1', 'Supermarket Type2', 'Grocery Store',\n",
       "       'Supermarket Type3'], dtype=object)"
      ]
     },
     "execution_count": 27,
     "metadata": {},
     "output_type": "execute_result"
    }
   ],
   "source": [
    "df_train[\"Outlet_Type\"].unique()"
   ]
  },
  {
   "cell_type": "code",
   "execution_count": 28,
   "id": "c967769c-bcd2-4ae3-b501-daec96e0ecf5",
   "metadata": {},
   "outputs": [],
   "source": [
    "# İtem_visibility ve item-MRP ,item_Outlet_Sales İNCELEME vE DÜZENLEME"
   ]
  },
  {
   "cell_type": "code",
   "execution_count": 29,
   "id": "b10216a1-1709-4624-9772-8892a28c361b",
   "metadata": {},
   "outputs": [],
   "source": [
    "# İtem_visibility"
   ]
  },
  {
   "cell_type": "code",
   "execution_count": 30,
   "id": "31a77da4-032c-4f8e-8337-079999bf2d3e",
   "metadata": {},
   "outputs": [],
   "source": [
    "#  İtem_visibility de 526 satır 0 görünüyor veriler hatalı girilmiş olabilir.\n",
    "#  Not modeli visibility 0 ve ortalamayla doldurulmuş olarak iki kere eğiteceğim."
   ]
  },
  {
   "cell_type": "code",
   "execution_count": 31,
   "id": "b357ea87-cb5a-494f-9ae9-bea0fce02d69",
   "metadata": {},
   "outputs": [],
   "source": [
    "zero_visibility_sales = df_train[(df_train[\"Item_Visibility\"] == 0) & (df_train[\"Item_Outlet_Sales\"] > 0)]"
   ]
  },
  {
   "cell_type": "code",
   "execution_count": 32,
   "id": "8c618eae-916a-4d29-9d52-dab96c3f6f68",
   "metadata": {},
   "outputs": [
    {
     "name": "stdout",
     "output_type": "stream",
     "text": [
      "Toplam 526 satırda görünürlük 0 ama satış yapılmış.\n"
     ]
    }
   ],
   "source": [
    "print(f\"Toplam {len(zero_visibility_sales)} satırda görünürlük 0 ama satış yapılmış.\")"
   ]
  },
  {
   "cell_type": "code",
   "execution_count": 33,
   "id": "ec1eedcb-e761-4d14-a441-df3a84b2cf4b",
   "metadata": {},
   "outputs": [
    {
     "name": "stdout",
     "output_type": "stream",
     "text": [
      "\n",
      "En çok geçen Item_Type:\n",
      "Item_Type\n",
      "Fruits and Vegetables    87\n",
      "Snack Foods              68\n",
      "Household                51\n",
      "Frozen Foods             51\n",
      "Baking Goods             45\n",
      "Dairy                    38\n",
      "Soft Drinks              34\n",
      "Health and Hygiene       33\n",
      "Canned                   33\n",
      "Meat                     20\n",
      "Name: count, dtype: int64\n"
     ]
    }
   ],
   "source": [
    "print(\"\\nEn çok geçen Item_Type:\")\n",
    "print(zero_visibility_sales[\"Item_Type\"].value_counts().head(10))"
   ]
  },
  {
   "cell_type": "code",
   "execution_count": 34,
   "id": "4f59909b-1808-497b-abba-97abaf0dc20d",
   "metadata": {},
   "outputs": [
    {
     "name": "stdout",
     "output_type": "stream",
     "text": [
      "\n",
      "Outlet bazında dağılım:\n",
      "Outlet_Identifier\n",
      "OUT018    65\n",
      "OUT046    61\n",
      "OUT027    60\n",
      "OUT013    59\n",
      "OUT045    58\n",
      "OUT017    57\n",
      "OUT035    54\n",
      "OUT049    53\n",
      "OUT019    30\n",
      "OUT010    29\n",
      "Name: count, dtype: int64\n"
     ]
    }
   ],
   "source": [
    "print(\"\\nOutlet bazında dağılım:\")\n",
    "print(zero_visibility_sales[\"Outlet_Identifier\"].value_counts())"
   ]
  },
  {
   "cell_type": "code",
   "execution_count": 35,
   "id": "d760aa88-9fd9-409b-94dc-947652ba6ca4",
   "metadata": {},
   "outputs": [],
   "source": [
    "#  Item_Outlet_Sales"
   ]
  },
  {
   "cell_type": "code",
   "execution_count": 36,
   "id": "dfce5c45-395d-4784-bfed-e2e642a63dcb",
   "metadata": {},
   "outputs": [
    {
     "data": {
      "text/plain": [
       "Item_Type\n",
       "Starchy Foods            2374.332773\n",
       "Seafood                  2326.065928\n",
       "Fruits and Vegetables    2289.009592\n",
       "Snack Foods              2277.321739\n",
       "Household                2258.784300\n",
       "Dairy                    2232.542597\n",
       "Canned                   2225.194904\n",
       "Breads                   2204.132226\n",
       "Meat                     2158.977911\n",
       "Hard Drinks              2139.221622\n",
       "Frozen Foods             2132.867744\n",
       "Breakfast                2111.808651\n",
       "Health and Hygiene       2010.000265\n",
       "Soft Drinks              2006.511735\n",
       "Baking Goods             1952.971207\n",
       "Others                   1926.139702\n",
       "Name: Item_Outlet_Sales, dtype: float64"
      ]
     },
     "execution_count": 36,
     "metadata": {},
     "output_type": "execute_result"
    }
   ],
   "source": [
    "df_train.groupby(\"Item_Type\")[\"Item_Outlet_Sales\"].mean().sort_values(ascending=False)\n",
    "# .sort_values(ascending=False) büyükten küçüğe sıraladım."
   ]
  },
  {
   "cell_type": "code",
   "execution_count": 37,
   "id": "d06fb49c-3118-429e-9720-bd3bd3771b67",
   "metadata": {},
   "outputs": [
    {
     "data": {
      "text/plain": [
       "Outlet_Type\n",
       "Supermarket Type3    3694.038558\n",
       "Supermarket Type1    2316.181148\n",
       "Supermarket Type2    1995.498739\n",
       "Grocery Store         339.828500\n",
       "Name: Item_Outlet_Sales, dtype: float64"
      ]
     },
     "execution_count": 37,
     "metadata": {},
     "output_type": "execute_result"
    }
   ],
   "source": [
    "# Ortalama satış\n",
    "df_train.groupby(\"Outlet_Type\")[\"Item_Outlet_Sales\"].mean().sort_values(ascending=False)"
   ]
  },
  {
   "cell_type": "code",
   "execution_count": 38,
   "id": "021cd6a0-9238-4652-a7cc-47eed45c7649",
   "metadata": {},
   "outputs": [
    {
     "name": "stdout",
     "output_type": "stream",
     "text": [
      "Outlet_Type\n",
      "Supermarket Type1    12,917,342\n",
      "Supermarket Type3     3,453,926\n",
      "Supermarket Type2     1,851,823\n",
      "Grocery Store           368,034\n",
      "Name: Item_Outlet_Sales, dtype: object\n"
     ]
    }
   ],
   "source": [
    "# Toplam satış\n",
    "sales = df_train.groupby(\"Outlet_Type\")[\"Item_Outlet_Sales\"].sum().sort_values(ascending=False)\n",
    "sales = sales.apply(lambda x: f\"{x:,.0f}\")\n",
    "print(sales)\n"
   ]
  },
  {
   "cell_type": "code",
   "execution_count": 39,
   "id": "46cfc9b0-34c9-4fce-a368-cac08b395c47",
   "metadata": {},
   "outputs": [
    {
     "data": {
      "text/plain": [
       "Outlet_Location_Type\n",
       "Tier 2    2323.990559\n",
       "Tier 3    2279.627651\n",
       "Tier 1    1876.909159\n",
       "Name: Item_Outlet_Sales, dtype: float64"
      ]
     },
     "execution_count": 39,
     "metadata": {},
     "output_type": "execute_result"
    }
   ],
   "source": [
    "# Lokasyon tiplerine göre ortalama Satış\n",
    "df_train.groupby(\"Outlet_Location_Type\")[\"Item_Outlet_Sales\"].mean().sort_values(ascending=False)"
   ]
  },
  {
   "cell_type": "code",
   "execution_count": 40,
   "id": "17d44467-0c46-4361-8835-f045d81491dc",
   "metadata": {},
   "outputs": [],
   "source": [
    " # SATIŞ İNCELEME"
   ]
  },
  {
   "cell_type": "code",
   "execution_count": 41,
   "id": "bbd321b4-9fa5-4a77-abca-9f05ecd2f4d2",
   "metadata": {},
   "outputs": [],
   "source": [
    "# 1.  Genel Satış Dağılımını İnceleyelim\n",
    "# İlk olarak Item_Outlet_Sales dağılımını histogram ile gösterelim. Böylece satışların hangi aralıkta yoğunlaştığını görebiliriz."
   ]
  },
  {
   "cell_type": "code",
   "execution_count": 42,
   "id": "f68dd304-3d51-437e-9f94-971f3ba2f772",
   "metadata": {},
   "outputs": [
    {
     "name": "stderr",
     "output_type": "stream",
     "text": [
      "C:\\Users\\User\\anaconda3\\Lib\\site-packages\\seaborn\\_oldcore.py:1119: FutureWarning: use_inf_as_na option is deprecated and will be removed in a future version. Convert inf values to NaN before operating instead.\n",
      "  with pd.option_context('mode.use_inf_as_na', True):\n"
     ]
    },
    {
     "data": {
      "text/plain": [
       "<Axes: xlabel='Item_Outlet_Sales', ylabel='Count'>"
      ]
     },
     "execution_count": 42,
     "metadata": {},
     "output_type": "execute_result"
    },
    {
     "data": {
      "image/png": "[encoded data removed]",
      "text/plain": [
       "<Figure size 640x480 with 1 Axes>"
      ]
     },
     "metadata": {},
     "output_type": "display_data"
    }
   ],
   "source": [
    "import seaborn as sns\n",
    "sns.histplot(df_train[\"Item_Outlet_Sales\"], kde=True)\n"
   ]
  },
  {
   "cell_type": "code",
   "execution_count": 43,
   "id": "bfdef612-cdcc-4a5b-ba92-819a24d03409",
   "metadata": {},
   "outputs": [],
   "source": [
    "#1️. Genel Satış Dağılımı \n",
    "#Satış dağılımı sağa çarpık\n",
    "#Düşük satış değerleri daha fazla, yüksek satış değerleri ise daha nadir.\n",
    "#Çok yüksek satış yapan ürünler az sayıda olabilir, bu yüzden outlier kontrolü YAPALIM."
   ]
  },
  {
   "cell_type": "code",
   "execution_count": 44,
   "id": "f0be7601-de99-46a8-b818-acdc53746a13",
   "metadata": {},
   "outputs": [],
   "source": [
    "# 2. Mağaza Türlerine göre Satışlar\n",
    "# Farklı mağaza türlerinde satışların nasıl değiştiğini inceleyelim."
   ]
  },
  {
   "cell_type": "code",
   "execution_count": 45,
   "id": "504fb320-ecb4-4d4c-9efd-5829345d5944",
   "metadata": {},
   "outputs": [],
   "source": [
    "# Mağaza türlerine göre ortalama satışlar\n",
    "avg_sales_by_outlet = df_train.groupby(\"Outlet_Type\")[\"Item_Outlet_Sales\"].mean().reset_index()\n"
   ]
  },
  {
   "cell_type": "code",
   "execution_count": 46,
   "id": "def9d358-3740-4f05-9c3b-425ea30d0b1c",
   "metadata": {},
   "outputs": [
    {
     "data": {
      "image/png": "[encoded data removed]",
      "text/plain": [
       "<Figure size 800x500 with 1 Axes>"
      ]
     },
     "metadata": {},
     "output_type": "display_data"
    }
   ],
   "source": [
    "plt.figure(figsize=(8,5))\n",
    "sns.barplot(data=avg_sales_by_outlet, x=\"Outlet_Type\", y=\"Item_Outlet_Sales\")\n",
    "plt.xlabel(\"Outlet Type\")\n",
    "plt.ylabel(\"Average Sales\")\n",
    "plt.title(\"Average Sales by Outlet Type\")\n",
    "plt.show()\n"
   ]
  },
  {
   "cell_type": "code",
   "execution_count": 47,
   "id": "c5e3f28c-cc89-4693-a7ac-2eec8fac0ac2",
   "metadata": {},
   "outputs": [],
   "source": [
    "#2. Mağaza Türüne Göre Ortalama Satışlar\n",
    "#Hipermarketler (Supermarket Type3) açık ara farkla en yüksek satışa sahip.\n",
    "#Süpermarket Type1 ve Type2 daha düşük satışlar yapıyor.\n",
    "# Grocery en düşük."
   ]
  },
  {
   "cell_type": "code",
   "execution_count": 48,
   "id": "3d2b1300-34da-41e1-8972-432433f650a6",
   "metadata": {},
   "outputs": [],
   "source": [
    "#3.LokastonTürüne Göre Ortalama Satışlar"
   ]
  },
  {
   "cell_type": "code",
   "execution_count": 49,
   "id": "2ab47220-825d-477e-b312-df2708904f62",
   "metadata": {},
   "outputs": [],
   "source": [
    "avg_sales_by_location = df_train.groupby(\"Outlet_Location_Type\")[\"Item_Outlet_Sales\"].mean().sort_values(ascending=False)"
   ]
  },
  {
   "cell_type": "code",
   "execution_count": 50,
   "id": "135844ce-245e-4b08-95df-4ff994b3b1fd",
   "metadata": {},
   "outputs": [
    {
     "data": {
      "image/png": "[encoded data removed]",
      "text/plain": [
       "<Figure size 640x480 with 1 Axes>"
      ]
     },
     "metadata": {},
     "output_type": "display_data"
    }
   ],
   "source": [
    "sns.barplot(x=avg_sales_by_location.index, y=avg_sales_by_location.values)\n",
    "plt.xlabel(\"Outlet Location Type\")\n",
    "plt.ylabel(\"Average Sales\")\n",
    "plt.title(\"Average Sales by Outlet Location Type\")\n",
    "plt.show()"
   ]
  },
  {
   "cell_type": "code",
   "execution_count": 51,
   "id": "cfab35fc-d195-4f13-8383-2fe1ea3d854d",
   "metadata": {},
   "outputs": [],
   "source": [
    "#Tier 1 ortalama satışta düşük çıkmış."
   ]
  },
  {
   "cell_type": "code",
   "execution_count": 52,
   "id": "42bd6a8f-be49-41da-961c-421ac646dd9b",
   "metadata": {},
   "outputs": [
    {
     "data": {
      "text/plain": [
       "Item_Outlet_Sales            1.000000\n",
       "Item_MRP                     0.567574\n",
       "Item_Weight                  0.013165\n",
       "Outlet_Establishment_Year   -0.049135\n",
       "Item_Visibility             -0.128625\n",
       "Name: Item_Outlet_Sales, dtype: float64"
      ]
     },
     "execution_count": 52,
     "metadata": {},
     "output_type": "execute_result"
    }
   ],
   "source": [
    "# Korelasyon bakalım\n",
    "df_train.select_dtypes(include=[\"number\"]).corr()[\"Item_Outlet_Sales\"].sort_values(ascending=False)"
   ]
  },
  {
   "cell_type": "code",
   "execution_count": 53,
   "id": "bc850f9f-48a7-4b56-9006-c3f2df873cf6",
   "metadata": {},
   "outputs": [],
   "source": [
    "#Item_MRP :0.567574 Orta düzeyde korelasyon → ürünün fiyatı arttıkça satış da artma eğiliminde. \n",
    "#Item_Weight: 0.013165ürün ağırlığının satışla pek ilişkisi yok. \n",
    "# diğerleri anlamsız sayılır"
   ]
  },
  {
   "cell_type": "code",
   "execution_count": 54,
   "id": "f86bc71f-0a26-44c0-998b-b7dd49185f76",
   "metadata": {},
   "outputs": [],
   "source": [
    "#4️. Item_MRP ile Satış İlişkisi\n",
    "# Ürünlerin fiyatı arttıkça satışlar nasıl değişiyor? "
   ]
  },
  {
   "cell_type": "code",
   "execution_count": 55,
   "id": "229f66d6-f946-445d-86b0-db809d0f2f06",
   "metadata": {},
   "outputs": [
    {
     "data": {
      "image/png": "[encoded data removed]",
      "text/plain": [
       "<Figure size 1000x500 with 1 Axes>"
      ]
     },
     "metadata": {},
     "output_type": "display_data"
    }
   ],
   "source": [
    "plt.figure(figsize=(10,5))\n",
    "plt.scatter(df_train[\"Item_MRP\"], df_train[\"Item_Outlet_Sales\"], alpha=0.5)\n",
    "plt.xlabel(\"Item MRP\")\n",
    "plt.ylabel(\"Item Outlet Sales\")\n",
    "plt.title(\"Relationship Between Item MRP and Sales\")\n",
    "plt.show()\n"
   ]
  },
  {
   "cell_type": "code",
   "execution_count": 56,
   "id": "b560be3d-11b5-4b7b-b0e2-fa79eba304ca",
   "metadata": {},
   "outputs": [],
   "source": [
    "#4️. Ürün Fiyatı ile Satış İlişkisi\n",
    "#Düşük fiyatlı ürünler genellikle daha fazla satılıyor.\n",
    "#Ancak fiyat arttıkça satış miktarında düzenli bir azalma yok.\n",
    "#Belli fiyat aralıklarında satışlar daha yoğun  100-150\n",
    "#Fiyat, satışları etkiliyor ancak doğrudan bir doğrusal ilişki yok."
   ]
  },
  {
   "cell_type": "code",
   "execution_count": 57,
   "id": "1b075988-14da-4808-9ec8-5a7a2c8cbdbc",
   "metadata": {},
   "outputs": [],
   "source": [
    "# NOT :Model İçin Hangi Özellikleri Kullanmalıyız?\n",
    "# Önemli sütunlar\n",
    "#Item_Type Ürün kategorisi\n",
    "#Outlet_Type Mağaza türü\n",
    "#Item_MRP Ürün fiyatı"
   ]
  },
  {
   "cell_type": "code",
   "execution_count": 58,
   "id": "acabc833-73e1-467f-9434-d4f7241967a1",
   "metadata": {},
   "outputs": [],
   "source": [
    "#KATEGORİ ANALİZİ"
   ]
  },
  {
   "cell_type": "code",
   "execution_count": 59,
   "id": "217f6e3d-a9f1-4bde-bc72-d33f84133620",
   "metadata": {},
   "outputs": [
    {
     "data": {
      "image/png": "[encoded data removed]",
      "text/plain": [
       "<Figure size 640x480 with 1 Axes>"
      ]
     },
     "metadata": {},
     "output_type": "display_data"
    }
   ],
   "source": [
    "#Kategorilere göre ürün dağılımı\n",
    "\n",
    "df_train[\"Item_Type\"].value_counts().plot(kind=\"bar\")\n",
    "plt.xlabel(\"Item Type\")\n",
    "plt.ylabel(\"Number of Items\")\n",
    "plt.title(\"Product Distribution by Category\")\n",
    "plt.show()"
   ]
  },
  {
   "cell_type": "code",
   "execution_count": 60,
   "id": "cb2967b9-ea73-4ca3-bb57-5c35ed7b13b9",
   "metadata": {},
   "outputs": [],
   "source": [
    "# Ürün tipine göre ortalama satışlar\n",
    "avg_sales_by_type = df_train.groupby(\"Item_Type\")[\"Item_Outlet_Sales\"].mean().reset_index()\n"
   ]
  },
  {
   "cell_type": "code",
   "execution_count": 61,
   "id": "0fb31e30-b298-4d85-a0b6-a7bdf3fc9517",
   "metadata": {},
   "outputs": [
    {
     "data": {
      "image/png": "[encoded data removed]",
      "text/plain": [
       "<Figure size 640x480 with 1 Axes>"
      ]
     },
     "metadata": {},
     "output_type": "display_data"
    }
   ],
   "source": [
    "avg_sales_by_type.plot(kind=\"bar\", x=\"Item_Type\", y=\"Item_Outlet_Sales\", legend=False)\n",
    "plt.xlabel(\"Item Type\")\n",
    "plt.ylabel(\"Average Sales\")\n",
    "plt.title(\"Average Sales by Item Type\")\n",
    "plt.xticks(rotation=90)  \n",
    "plt.show()\n"
   ]
  },
  {
   "cell_type": "code",
   "execution_count": 62,
   "id": "e012b889-b99f-4304-9333-c6bfd4bff633",
   "metadata": {},
   "outputs": [],
   "source": [
    "#  Ürün Tiplerine Göre Ortalama Satış Miktarları\n",
    "# Bazı ürünler çok daha fazla satılıyor, bazıları ise düşük satışta kalıyor.\n",
    "# En yüksek satış yapan ürün grubu \"Starchy Foods\" gibi görünüyor.\n",
    "# Düşük satış yapan gruplar arasında ise \"Health and Hygiene\" ürünleri ve \"Baking Goods\" ve \"Others\""
   ]
  },
  {
   "cell_type": "code",
   "execution_count": 63,
   "id": "d3e8373d-62a7-4a40-89a0-0531211f7ecb",
   "metadata": {},
   "outputs": [],
   "source": [
    "# MODEL DENEME"
   ]
  },
  {
   "cell_type": "code",
   "execution_count": 64,
   "id": "3a6f1351-55c6-44de-8fda-5952c76ea285",
   "metadata": {},
   "outputs": [],
   "source": [
    "df_model_1 = df_train.copy()"
   ]
  },
  {
   "cell_type": "code",
   "execution_count": 65,
   "id": "8b47d43e-b48a-49c3-8cae-783d95a82ac8",
   "metadata": {},
   "outputs": [],
   "source": [
    "# bazı sütunları drop edelim\n",
    "df_model_1.drop([\"Item_Identifier\", \"Outlet_Establishment_Year\"], axis=1, inplace=True)"
   ]
  },
  {
   "cell_type": "code",
   "execution_count": 66,
   "id": "b567dfbd-d5f9-40ee-ba6d-79e4beeb3462",
   "metadata": {},
   "outputs": [],
   "source": [
    "from sklearn.preprocessing import LabelEncoder\n",
    "\n",
    "df_encoded = df_model_1.copy()\n",
    "label_cols = df_encoded.select_dtypes(include=[\"object\"]).columns\n",
    "\n",
    "le = LabelEncoder()\n",
    "for col in label_cols:\n",
    "    df_encoded[col] = le.fit_transform(df_encoded[col])\n"
   ]
  },
  {
   "cell_type": "code",
   "execution_count": 67,
   "id": "8c3317c0-b56c-4772-a4c3-b62956509d4d",
   "metadata": {},
   "outputs": [],
   "source": [
    "X = df_encoded.drop(\"Item_Outlet_Sales\", axis=1)\n",
    "y = df_encoded[\"Item_Outlet_Sales\"]\n"
   ]
  },
  {
   "cell_type": "code",
   "execution_count": 68,
   "id": "f31af990-189e-411d-a323-0909a5e6db2f",
   "metadata": {},
   "outputs": [],
   "source": [
    "from sklearn.model_selection import train_test_split\n",
    "\n",
    "X_train, X_test, y_train, y_test = train_test_split(X, y, test_size=0.2, random_state=42)\n"
   ]
  },
  {
   "cell_type": "code",
   "execution_count": 69,
   "id": "e92276a4-582c-4ff2-b2f5-cc4f6a52f55b",
   "metadata": {},
   "outputs": [
    {
     "name": "stdout",
     "output_type": "stream",
     "text": [
      "RMSE: 1053.79\n",
      "R² Score: 0.5914\n"
     ]
    }
   ],
   "source": [
    "from xgboost import XGBRegressor\n",
    "from sklearn.metrics import mean_squared_error, r2_score\n",
    "\n",
    "model = XGBRegressor(n_estimators=100, learning_rate=0.1, random_state=42)\n",
    "model.fit(X_train, y_train)\n",
    "\n",
    "y_pred = model.predict(X_test)\n",
    "\n",
    "rmse = np.sqrt(mean_squared_error(y_test, y_pred))\n",
    "r2 = r2_score(y_test, y_pred)\n",
    "\n",
    "print(f\"RMSE: {rmse:.2f}\")\n",
    "print(f\"R² Score: {r2:.4f}\")\n"
   ]
  },
  {
   "cell_type": "code",
   "execution_count": 70,
   "id": "55e0728c-003f-46c4-b4bd-5e00585cb22c",
   "metadata": {},
   "outputs": [],
   "source": [
    "# Deneme 2 item_visibility 0'lara bayrak atama"
   ]
  },
  {
   "cell_type": "code",
   "execution_count": 71,
   "id": "5384c704-4f05-43c3-97a6-4d8ddcc40446",
   "metadata": {},
   "outputs": [],
   "source": [
    "df_model_2 = df_train.copy()"
   ]
  },
  {
   "cell_type": "code",
   "execution_count": 72,
   "id": "8e245063-a342-4917-b4bf-4e3a010e916b",
   "metadata": {},
   "outputs": [],
   "source": [
    "# bazı sütunları drop edelim\n",
    "df_model_2.drop([\"Item_Identifier\", \"Outlet_Establishment_Year\"], axis=1, inplace=True)"
   ]
  },
  {
   "cell_type": "code",
   "execution_count": 73,
   "id": "cfec901d-01a3-416a-b6b5-0b26c51d1299",
   "metadata": {},
   "outputs": [],
   "source": [
    "# visibility \"0\" olanları işaretledik \n",
    "df_model_2[\"Is_Visibility_Zero\"] = (df_model_2[\"Item_Visibility\"] == 0).astype(int)"
   ]
  },
  {
   "cell_type": "code",
   "execution_count": 74,
   "id": "824f07e3-6a3c-46bc-99d1-c784776e91f3",
   "metadata": {},
   "outputs": [],
   "source": [
    "from sklearn.preprocessing import LabelEncoder\n",
    "\n",
    "df_encoded = df_model_2.copy()\n",
    "label_cols = df_encoded.select_dtypes(include=[\"object\"]).columns\n",
    "\n",
    "le = LabelEncoder()\n",
    "for col in label_cols:\n",
    "    df_encoded[col] = le.fit_transform(df_encoded[col])\n"
   ]
  },
  {
   "cell_type": "code",
   "execution_count": 75,
   "id": "81156dd7-0c1b-4969-9962-d99d021e00a7",
   "metadata": {},
   "outputs": [],
   "source": [
    "X = df_encoded.drop(\"Item_Outlet_Sales\", axis=1)\n",
    "y = df_encoded[\"Item_Outlet_Sales\"]\n"
   ]
  },
  {
   "cell_type": "code",
   "execution_count": 76,
   "id": "6163585f-0f06-46d0-90e1-a165ca2face1",
   "metadata": {},
   "outputs": [],
   "source": [
    "from sklearn.model_selection import train_test_split\n",
    "\n",
    "X_train, X_test, y_train, y_test = train_test_split(X, y, test_size=0.2, random_state=42)\n"
   ]
  },
  {
   "cell_type": "code",
   "execution_count": 77,
   "id": "b10ae51b-4ba6-460b-af07-d53aa5f1ac65",
   "metadata": {},
   "outputs": [
    {
     "name": "stdout",
     "output_type": "stream",
     "text": [
      "RMSE: 1057.77\n",
      "R² Score: 0.5883\n"
     ]
    }
   ],
   "source": [
    "model = XGBRegressor(n_estimators=100, learning_rate=0.1, random_state=42)\n",
    "model.fit(X_train, y_train)\n",
    "\n",
    "y_pred = model.predict(X_test)\n",
    "\n",
    "rmse = np.sqrt(mean_squared_error(y_test, y_pred))\n",
    "r2 = r2_score(y_test, y_pred)\n",
    "\n",
    "print(f\"RMSE: {rmse:.2f}\")\n",
    "print(f\"R² Score: {r2:.4f}\")"
   ]
  },
  {
   "cell_type": "code",
   "execution_count": 78,
   "id": "f2621b63-70b4-4a08-a386-82c49c8a2f3d",
   "metadata": {},
   "outputs": [],
   "source": [
    "# item_visibility'ideki 0 ları mean ile doldur kontrol et.\n",
    "# Bu değerleri ürün bazlı ortalama görünürlükle dolduralım\n",
    "# OLMADI RMSE YÜKSELDİ"
   ]
  },
  {
   "cell_type": "code",
   "execution_count": 79,
   "id": "f65d40c1-1994-4757-8253-5253767f78b7",
   "metadata": {},
   "outputs": [],
   "source": [
    "# Item_Visibility kontrol\n",
    "#Item_Visibility = Ürünün Raf Alanı / Toplam Mağaza Raf Alanı"
   ]
  },
  {
   "cell_type": "code",
   "execution_count": 80,
   "id": "8628545f-2b15-43c2-ac34-5b79a0bfd997",
   "metadata": {},
   "outputs": [
    {
     "data": {
      "text/html": [
       "<div>\n",
       "<style scoped>\n",
       "    .dataframe tbody tr th:only-of-type {\n",
       "        vertical-align: middle;\n",
       "    }\n",
       "\n",
       "    .dataframe tbody tr th {\n",
       "        vertical-align: top;\n",
       "    }\n",
       "\n",
       "    .dataframe thead th {\n",
       "        text-align: right;\n",
       "    }\n",
       "</style>\n",
       "<table border=\"1\" class=\"dataframe\">\n",
       "  <thead>\n",
       "    <tr style=\"text-align: right;\">\n",
       "      <th></th>\n",
       "      <th>Item_Identifier</th>\n",
       "      <th>Item_Weight</th>\n",
       "      <th>Item_Fat_Content</th>\n",
       "      <th>Item_Visibility</th>\n",
       "      <th>Item_Type</th>\n",
       "      <th>Item_MRP</th>\n",
       "      <th>Outlet_Identifier</th>\n",
       "      <th>Outlet_Establishment_Year</th>\n",
       "      <th>Outlet_Size</th>\n",
       "      <th>Outlet_Location_Type</th>\n",
       "      <th>Outlet_Type</th>\n",
       "      <th>Item_Outlet_Sales</th>\n",
       "    </tr>\n",
       "  </thead>\n",
       "  <tbody>\n",
       "    <tr>\n",
       "      <th>3</th>\n",
       "      <td>FDX07</td>\n",
       "      <td>19.200</td>\n",
       "      <td>Regular</td>\n",
       "      <td>0.0</td>\n",
       "      <td>Fruits and Vegetables</td>\n",
       "      <td>182.0950</td>\n",
       "      <td>OUT010</td>\n",
       "      <td>1998</td>\n",
       "      <td>Small</td>\n",
       "      <td>Tier 3</td>\n",
       "      <td>Grocery Store</td>\n",
       "      <td>732.3800</td>\n",
       "    </tr>\n",
       "    <tr>\n",
       "      <th>4</th>\n",
       "      <td>NCD19</td>\n",
       "      <td>8.930</td>\n",
       "      <td>Non-Edible</td>\n",
       "      <td>0.0</td>\n",
       "      <td>Household</td>\n",
       "      <td>53.8614</td>\n",
       "      <td>OUT013</td>\n",
       "      <td>1987</td>\n",
       "      <td>High</td>\n",
       "      <td>Tier 3</td>\n",
       "      <td>Supermarket Type1</td>\n",
       "      <td>994.7052</td>\n",
       "    </tr>\n",
       "    <tr>\n",
       "      <th>5</th>\n",
       "      <td>FDP36</td>\n",
       "      <td>10.395</td>\n",
       "      <td>Regular</td>\n",
       "      <td>0.0</td>\n",
       "      <td>Baking Goods</td>\n",
       "      <td>51.4008</td>\n",
       "      <td>OUT018</td>\n",
       "      <td>2009</td>\n",
       "      <td>Medium</td>\n",
       "      <td>Tier 3</td>\n",
       "      <td>Supermarket Type2</td>\n",
       "      <td>556.6088</td>\n",
       "    </tr>\n",
       "    <tr>\n",
       "      <th>10</th>\n",
       "      <td>FDY07</td>\n",
       "      <td>11.800</td>\n",
       "      <td>Low Fat</td>\n",
       "      <td>0.0</td>\n",
       "      <td>Fruits and Vegetables</td>\n",
       "      <td>45.5402</td>\n",
       "      <td>OUT049</td>\n",
       "      <td>1999</td>\n",
       "      <td>Medium</td>\n",
       "      <td>Tier 1</td>\n",
       "      <td>Supermarket Type1</td>\n",
       "      <td>1516.0266</td>\n",
       "    </tr>\n",
       "    <tr>\n",
       "      <th>32</th>\n",
       "      <td>FDP33</td>\n",
       "      <td>18.700</td>\n",
       "      <td>Low Fat</td>\n",
       "      <td>0.0</td>\n",
       "      <td>Snack Foods</td>\n",
       "      <td>256.6672</td>\n",
       "      <td>OUT018</td>\n",
       "      <td>2009</td>\n",
       "      <td>Medium</td>\n",
       "      <td>Tier 3</td>\n",
       "      <td>Supermarket Type2</td>\n",
       "      <td>3068.0064</td>\n",
       "    </tr>\n",
       "    <tr>\n",
       "      <th>...</th>\n",
       "      <td>...</td>\n",
       "      <td>...</td>\n",
       "      <td>...</td>\n",
       "      <td>...</td>\n",
       "      <td>...</td>\n",
       "      <td>...</td>\n",
       "      <td>...</td>\n",
       "      <td>...</td>\n",
       "      <td>...</td>\n",
       "      <td>...</td>\n",
       "      <td>...</td>\n",
       "      <td>...</td>\n",
       "    </tr>\n",
       "    <tr>\n",
       "      <th>8480</th>\n",
       "      <td>FDQ58</td>\n",
       "      <td>7.315</td>\n",
       "      <td>Low Fat</td>\n",
       "      <td>0.0</td>\n",
       "      <td>Snack Foods</td>\n",
       "      <td>154.5340</td>\n",
       "      <td>OUT019</td>\n",
       "      <td>1985</td>\n",
       "      <td>Small</td>\n",
       "      <td>Tier 1</td>\n",
       "      <td>Grocery Store</td>\n",
       "      <td>459.4020</td>\n",
       "    </tr>\n",
       "    <tr>\n",
       "      <th>8484</th>\n",
       "      <td>DRJ49</td>\n",
       "      <td>6.865</td>\n",
       "      <td>Low Fat</td>\n",
       "      <td>0.0</td>\n",
       "      <td>Soft Drinks</td>\n",
       "      <td>129.9652</td>\n",
       "      <td>OUT013</td>\n",
       "      <td>1987</td>\n",
       "      <td>High</td>\n",
       "      <td>Tier 3</td>\n",
       "      <td>Supermarket Type1</td>\n",
       "      <td>2324.9736</td>\n",
       "    </tr>\n",
       "    <tr>\n",
       "      <th>8486</th>\n",
       "      <td>FDR20</td>\n",
       "      <td>20.000</td>\n",
       "      <td>Regular</td>\n",
       "      <td>0.0</td>\n",
       "      <td>Fruits and Vegetables</td>\n",
       "      <td>46.4744</td>\n",
       "      <td>OUT010</td>\n",
       "      <td>1998</td>\n",
       "      <td>Small</td>\n",
       "      <td>Tier 3</td>\n",
       "      <td>Grocery Store</td>\n",
       "      <td>45.2744</td>\n",
       "    </tr>\n",
       "    <tr>\n",
       "      <th>8494</th>\n",
       "      <td>NCI54</td>\n",
       "      <td>15.200</td>\n",
       "      <td>Non-Edible</td>\n",
       "      <td>0.0</td>\n",
       "      <td>Household</td>\n",
       "      <td>110.4912</td>\n",
       "      <td>OUT017</td>\n",
       "      <td>2007</td>\n",
       "      <td>Small</td>\n",
       "      <td>Tier 2</td>\n",
       "      <td>Supermarket Type1</td>\n",
       "      <td>1637.8680</td>\n",
       "    </tr>\n",
       "    <tr>\n",
       "      <th>8500</th>\n",
       "      <td>NCQ42</td>\n",
       "      <td>20.350</td>\n",
       "      <td>Non-Edible</td>\n",
       "      <td>0.0</td>\n",
       "      <td>Household</td>\n",
       "      <td>125.1678</td>\n",
       "      <td>OUT017</td>\n",
       "      <td>2007</td>\n",
       "      <td>Small</td>\n",
       "      <td>Tier 2</td>\n",
       "      <td>Supermarket Type1</td>\n",
       "      <td>1907.5170</td>\n",
       "    </tr>\n",
       "  </tbody>\n",
       "</table>\n",
       "<p>526 rows × 12 columns</p>\n",
       "</div>"
      ],
      "text/plain": [
       "     Item_Identifier  Item_Weight Item_Fat_Content  Item_Visibility  \\\n",
       "3              FDX07       19.200          Regular              0.0   \n",
       "4              NCD19        8.930       Non-Edible              0.0   \n",
       "5              FDP36       10.395          Regular              0.0   \n",
       "10             FDY07       11.800          Low Fat              0.0   \n",
       "32             FDP33       18.700          Low Fat              0.0   \n",
       "...              ...          ...              ...              ...   \n",
       "8480           FDQ58        7.315          Low Fat              0.0   \n",
       "8484           DRJ49        6.865          Low Fat              0.0   \n",
       "8486           FDR20       20.000          Regular              0.0   \n",
       "8494           NCI54       15.200       Non-Edible              0.0   \n",
       "8500           NCQ42       20.350       Non-Edible              0.0   \n",
       "\n",
       "                  Item_Type  Item_MRP Outlet_Identifier  \\\n",
       "3     Fruits and Vegetables  182.0950            OUT010   \n",
       "4                 Household   53.8614            OUT013   \n",
       "5              Baking Goods   51.4008            OUT018   \n",
       "10    Fruits and Vegetables   45.5402            OUT049   \n",
       "32              Snack Foods  256.6672            OUT018   \n",
       "...                     ...       ...               ...   \n",
       "8480            Snack Foods  154.5340            OUT019   \n",
       "8484            Soft Drinks  129.9652            OUT013   \n",
       "8486  Fruits and Vegetables   46.4744            OUT010   \n",
       "8494              Household  110.4912            OUT017   \n",
       "8500              Household  125.1678            OUT017   \n",
       "\n",
       "      Outlet_Establishment_Year Outlet_Size Outlet_Location_Type  \\\n",
       "3                          1998       Small               Tier 3   \n",
       "4                          1987        High               Tier 3   \n",
       "5                          2009      Medium               Tier 3   \n",
       "10                         1999      Medium               Tier 1   \n",
       "32                         2009      Medium               Tier 3   \n",
       "...                         ...         ...                  ...   \n",
       "8480                       1985       Small               Tier 1   \n",
       "8484                       1987        High               Tier 3   \n",
       "8486                       1998       Small               Tier 3   \n",
       "8494                       2007       Small               Tier 2   \n",
       "8500                       2007       Small               Tier 2   \n",
       "\n",
       "            Outlet_Type  Item_Outlet_Sales  \n",
       "3         Grocery Store           732.3800  \n",
       "4     Supermarket Type1           994.7052  \n",
       "5     Supermarket Type2           556.6088  \n",
       "10    Supermarket Type1          1516.0266  \n",
       "32    Supermarket Type2          3068.0064  \n",
       "...                 ...                ...  \n",
       "8480      Grocery Store           459.4020  \n",
       "8484  Supermarket Type1          2324.9736  \n",
       "8486      Grocery Store            45.2744  \n",
       "8494  Supermarket Type1          1637.8680  \n",
       "8500  Supermarket Type1          1907.5170  \n",
       "\n",
       "[526 rows x 12 columns]"
      ]
     },
     "execution_count": 80,
     "metadata": {},
     "output_type": "execute_result"
    }
   ],
   "source": [
    "df_train[df_train[\"Item_Visibility\"] <= 0 ]"
   ]
  },
  {
   "cell_type": "code",
   "execution_count": 81,
   "id": "8a482c00-dd92-4a8d-aa73-f54f5ca588a5",
   "metadata": {},
   "outputs": [
    {
     "data": {
      "text/plain": [
       "526"
      ]
     },
     "execution_count": 81,
     "metadata": {},
     "output_type": "execute_result"
    }
   ],
   "source": [
    "(df_train[\"Item_Visibility\"] <= 0).sum()"
   ]
  },
  {
   "cell_type": "code",
   "execution_count": 82,
   "id": "caf05745-08d5-4cea-88b5-914ee553d1c1",
   "metadata": {},
   "outputs": [],
   "source": [
    "# 526 satırda ürün görünürlüğü 0 bu yüzden satışı yapılmış mı kontrol edeceğiz. Hepsinin satışı yapılmış. Yani yanlış girilmiş\n",
    "# 0 olmaması lazım"
   ]
  },
  {
   "cell_type": "code",
   "execution_count": 83,
   "id": "af261768-e6f1-44ca-853f-9fbd20cf8481",
   "metadata": {},
   "outputs": [],
   "source": [
    "df_model_3 = df_train.copy()"
   ]
  },
  {
   "cell_type": "code",
   "execution_count": 84,
   "id": "4263dd14-2aab-4196-8d0a-bffc2adef2f5",
   "metadata": {},
   "outputs": [],
   "source": [
    "# Ürün bazlı ortalama görünürlük\n",
    "visibility_mean = df_model_3.groupby(\"Item_Identifier\")[\"Item_Visibility\"].transform(\"mean\")"
   ]
  },
  {
   "cell_type": "code",
   "execution_count": 85,
   "id": "c3a2ba1f-0644-491a-aada-cc261ed9f56e",
   "metadata": {},
   "outputs": [],
   "source": [
    "# Görünürlüğü 0 olanlara ortalama atadık\n",
    "df_model_3.loc[df_model_3[\"Item_Visibility\"] == 0, \"Item_Visibility\"] = visibility_mean"
   ]
  },
  {
   "cell_type": "code",
   "execution_count": 86,
   "id": "8a50f23b-2c4a-4a2f-9521-1c52ca38f867",
   "metadata": {},
   "outputs": [
    {
     "name": "stdout",
     "output_type": "stream",
     "text": [
      "0 olan satır sayısı: 0\n"
     ]
    }
   ],
   "source": [
    "# 0 olan kaldımı kontrol\n",
    "zero_visibility_count = (df_model_3[\"Item_Visibility\"] == 0).sum()\n",
    "print(f\"0 olan satır sayısı: {zero_visibility_count}\")"
   ]
  },
  {
   "cell_type": "code",
   "execution_count": 87,
   "id": "05874b5b-8df4-4b7a-8591-21e4cacfa8ae",
   "metadata": {},
   "outputs": [],
   "source": [
    "# bazı sütunları drop edelim\n",
    "df_model_3.drop([\"Item_Identifier\", \"Outlet_Establishment_Year\"], axis=1, inplace=True)"
   ]
  },
  {
   "cell_type": "code",
   "execution_count": 88,
   "id": "cba831e5-ea73-460a-8d3d-6c1fc42edbd6",
   "metadata": {},
   "outputs": [],
   "source": [
    "df_encoded = df_model_3.copy()\n",
    "label_cols = df_encoded.select_dtypes(include=[\"object\"]).columns\n",
    "\n",
    "le = LabelEncoder()\n",
    "for col in label_cols:\n",
    "    df_encoded[col] = le.fit_transform(df_encoded[col])"
   ]
  },
  {
   "cell_type": "code",
   "execution_count": 89,
   "id": "84e2953b-39c5-4365-99d9-11bfdf87f653",
   "metadata": {},
   "outputs": [],
   "source": [
    "X = df_encoded.drop(\"Item_Outlet_Sales\", axis=1)\n",
    "y = df_encoded[\"Item_Outlet_Sales\"]"
   ]
  },
  {
   "cell_type": "code",
   "execution_count": 90,
   "id": "4c86789c-d0a7-4f21-93ae-03137ea6b01f",
   "metadata": {},
   "outputs": [],
   "source": [
    "X_train, X_test, y_train, y_test = train_test_split(X, y, test_size=0.2, random_state=42)"
   ]
  },
  {
   "cell_type": "code",
   "execution_count": 91,
   "id": "923ad34c-0193-45a1-aedd-e9f90797b3c5",
   "metadata": {},
   "outputs": [
    {
     "name": "stdout",
     "output_type": "stream",
     "text": [
      "RMSE: 1043.69\n",
      "R² Score: 0.5992\n"
     ]
    }
   ],
   "source": [
    "model = XGBRegressor(n_estimators=100, learning_rate=0.1, random_state=42)\n",
    "model.fit(X_train, y_train)\n",
    "\n",
    "y_pred = model.predict(X_test)\n",
    "\n",
    "rmse = np.sqrt(mean_squared_error(y_test, y_pred))\n",
    "r2 = r2_score(y_test, y_pred)\n",
    "\n",
    "print(f\"RMSE: {rmse:.2f}\")\n",
    "print(f\"R² Score: {r2:.4f}\")"
   ]
  },
  {
   "cell_type": "code",
   "execution_count": 92,
   "id": "4fac660f-99dd-4f00-98c2-35f7c8b075f6",
   "metadata": {},
   "outputs": [],
   "source": [
    "#  3. DENEME item vibility ve flag birlikte"
   ]
  },
  {
   "cell_type": "code",
   "execution_count": 93,
   "id": "71affd78-38ba-4dd7-b57b-5de2eff0bb29",
   "metadata": {},
   "outputs": [],
   "source": [
    "df_model_4 = df_train.copy()"
   ]
  },
  {
   "cell_type": "code",
   "execution_count": 94,
   "id": "d1c5de5b-a2e3-4cbe-a1cd-89e1cd0d9234",
   "metadata": {},
   "outputs": [],
   "source": [
    "df_model_4[\"Is_Visibility_Zero\"] = (df_model_4[\"Item_Visibility\"] == 0).astype(int)"
   ]
  },
  {
   "cell_type": "code",
   "execution_count": 95,
   "id": "aeeb37b9-0674-490e-a17d-3b38f86f1a18",
   "metadata": {},
   "outputs": [],
   "source": [
    "visibility_mean = df_model_4.groupby(\"Item_Identifier\")[\"Item_Visibility\"].transform(\"mean\")\n",
    "df_model_4.loc[df_model_4[\"Item_Visibility\"] == 0, \"Item_Visibility\"] = visibility_mean"
   ]
  },
  {
   "cell_type": "code",
   "execution_count": 96,
   "id": "b3212e2c-6a36-47e6-b66e-4211f0b1aba9",
   "metadata": {},
   "outputs": [
    {
     "name": "stdout",
     "output_type": "stream",
     "text": [
      "0 olan satır sayısı: 0\n"
     ]
    }
   ],
   "source": [
    "# 0 olan kaldımı kontrol\n",
    "zero_visibility_count = (df_model_4[\"Item_Visibility\"] == 0).sum()\n",
    "print(f\"0 olan satır sayısı: {zero_visibility_count}\")"
   ]
  },
  {
   "cell_type": "code",
   "execution_count": 97,
   "id": "77e8107e-76f6-4b17-9a89-00b22efaa94a",
   "metadata": {},
   "outputs": [],
   "source": [
    "# bazı sütunları drop edelim\n",
    "df_model_4.drop([\"Item_Identifier\", \"Outlet_Establishment_Year\"], axis=1, inplace=True)"
   ]
  },
  {
   "cell_type": "code",
   "execution_count": 98,
   "id": "6a99f5c4-a1b9-411d-bd40-566a26f6fb1c",
   "metadata": {},
   "outputs": [],
   "source": [
    "df_encoded = df_model_4.copy()\n",
    "label_cols = df_encoded.select_dtypes(include=[\"object\"]).columns\n",
    "\n",
    "le = LabelEncoder()\n",
    "for col in label_cols:\n",
    "    df_encoded[col] = le.fit_transform(df_encoded[col])"
   ]
  },
  {
   "cell_type": "code",
   "execution_count": 99,
   "id": "b1c6cf7f-986b-4e68-8d24-d7d67ff18d12",
   "metadata": {},
   "outputs": [],
   "source": [
    "X = df_encoded.drop(\"Item_Outlet_Sales\", axis=1)\n",
    "y = df_encoded[\"Item_Outlet_Sales\"]"
   ]
  },
  {
   "cell_type": "code",
   "execution_count": 100,
   "id": "f0719164-aba2-4944-9216-2d2e38e80ec7",
   "metadata": {},
   "outputs": [],
   "source": [
    "X_train, X_test, y_train, y_test = train_test_split(X, y, test_size=0.2, random_state=42)"
   ]
  },
  {
   "cell_type": "code",
   "execution_count": 101,
   "id": "61ab22a7-1af6-4d7d-b11a-5cf17f4716cd",
   "metadata": {},
   "outputs": [
    {
     "name": "stdout",
     "output_type": "stream",
     "text": [
      "RMSE: 1055.68\n",
      "R² Score: 0.5900\n"
     ]
    }
   ],
   "source": [
    "model = XGBRegressor(n_estimators=100, learning_rate=0.1, random_state=42)\n",
    "model.fit(X_train, y_train)\n",
    "\n",
    "y_pred = model.predict(X_test)\n",
    "\n",
    "rmse = np.sqrt(mean_squared_error(y_test, y_pred))\n",
    "r2 = r2_score(y_test, y_pred)\n",
    "\n",
    "print(f\"RMSE: {rmse:.2f}\")\n",
    "print(f\"R² Score: {r2:.4f}\")"
   ]
  },
  {
   "cell_type": "code",
   "execution_count": 102,
   "id": "3869e7bc-650d-4570-b16d-0ea90873f67e",
   "metadata": {},
   "outputs": [],
   "source": [
    "# df_model_4 ile devam RMSE:1046.04 R2 0.5974\n",
    "# visibility i grupluyorum"
   ]
  },
  {
   "cell_type": "code",
   "execution_count": 103,
   "id": "da6da0bc-eacc-4a4d-b4be-c70a128c3739",
   "metadata": {},
   "outputs": [],
   "source": [
    "df_model_5 = df_model_4.copy()"
   ]
  },
  {
   "cell_type": "code",
   "execution_count": 104,
   "id": "7df4262b-e5d2-47e4-8ffe-d7bab964dcbd",
   "metadata": {},
   "outputs": [],
   "source": [
    "df_model_5[\"Visibility_Group\"] = pd.cut(\n",
    "    df_model_5[\"Item_Visibility\"],\n",
    "    bins=[-0.01, 0.05, 0.1, 0.2, df_model_5[\"Item_Visibility\"].max()],\n",
    "    labels=[\"Very Low\", \"Low\", \"Medium\", \"High\"]\n",
    ")"
   ]
  },
  {
   "cell_type": "code",
   "execution_count": 105,
   "id": "c7fec78f-f6d7-4b49-b7d6-4224c7dfaa84",
   "metadata": {},
   "outputs": [],
   "source": [
    "df_model_5[\"Visibility_Group\"] = df_model_5[\"Visibility_Group\"].astype(str)\n",
    "# categori tipinde çünkü"
   ]
  },
  {
   "cell_type": "code",
   "execution_count": 106,
   "id": "4d05bb28-0274-446f-9881-6d9ef27476b1",
   "metadata": {},
   "outputs": [],
   "source": [
    "df_encoded = df_model_5.copy()\n",
    "label_cols = df_encoded.select_dtypes(include=[\"object\"]).columns\n",
    "\n",
    "le = LabelEncoder()\n",
    "for col in label_cols:\n",
    "    df_encoded[col] = le.fit_transform(df_encoded[col])"
   ]
  },
  {
   "cell_type": "code",
   "execution_count": 107,
   "id": "6255aa5a-57aa-4b11-bd00-efafe8fd71e8",
   "metadata": {},
   "outputs": [],
   "source": [
    "X = df_encoded.drop(\"Item_Outlet_Sales\", axis=1)\n",
    "y = df_encoded[\"Item_Outlet_Sales\"]"
   ]
  },
  {
   "cell_type": "code",
   "execution_count": 108,
   "id": "87cb190e-e3c8-4de0-b251-717d5191f237",
   "metadata": {},
   "outputs": [],
   "source": [
    "X_train, X_test, y_train, y_test = train_test_split(X, y, test_size=0.2, random_state=42)"
   ]
  },
  {
   "cell_type": "code",
   "execution_count": 109,
   "id": "ac118d47-c0fb-427e-b5c8-e105139b5f2a",
   "metadata": {},
   "outputs": [
    {
     "name": "stdout",
     "output_type": "stream",
     "text": [
      "RMSE: 1049.49\n",
      "R² Score: 0.5948\n"
     ]
    }
   ],
   "source": [
    "model = XGBRegressor(n_estimators=100, learning_rate=0.1, random_state=42)\n",
    "model.fit(X_train, y_train)\n",
    "\n",
    "y_pred = model.predict(X_test)\n",
    "\n",
    "rmse = np.sqrt(mean_squared_error(y_test, y_pred))\n",
    "r2 = r2_score(y_test, y_pred)\n",
    "\n",
    "print(f\"RMSE: {rmse:.2f}\")\n",
    "print(f\"R² Score: {r2:.4f}\")"
   ]
  },
  {
   "cell_type": "code",
   "execution_count": 110,
   "id": "3928c338-f7d0-4450-b10c-222a02fe813f",
   "metadata": {},
   "outputs": [],
   "source": [
    "## Model 6"
   ]
  },
  {
   "cell_type": "code",
   "execution_count": null,
   "id": "17d91505-6f3d-4ef7-ae1d-47017fb073b2",
   "metadata": {},
   "outputs": [],
   "source": [
    "#  FEATURE ENGINEERING "
   ]
  },
  {
   "cell_type": "code",
   "execution_count": null,
   "id": "c40f095a-9c27-4245-bdbe-2242730f647a",
   "metadata": {},
   "outputs": [],
   "source": [
    "# MAĞAZA YAŞI"
   ]
  },
  {
   "cell_type": "code",
   "execution_count": null,
   "id": "5a360544-64a0-41fd-8891-5d68770512a4",
   "metadata": {},
   "outputs": [],
   "source": [
    "df_model_6 = df_model_4.copy()"
   ]
  },
  {
   "cell_type": "code",
   "execution_count": null,
   "id": "0de41fc2-3555-4d88-a4a7-863648d1f1ea",
   "metadata": {},
   "outputs": [],
   "source": [
    "df_model_6[\"Outlet_Establishment_Year\"] = df_train[\"Outlet_Establishment_Year\"]"
   ]
  },
  {
   "cell_type": "code",
   "execution_count": null,
   "id": "e7e2c71c-ac75-4ffe-a010-ed2cb1b217cd",
   "metadata": {},
   "outputs": [],
   "source": [
    "df_model_6[\"Outlet_Age\"] = 2013 - df_model_6[\"Outlet_Establishment_Year\"]"
   ]
  },
  {
   "cell_type": "code",
   "execution_count": null,
   "id": "78a7e17d-0c88-4e24-8828-a066845dd1ef",
   "metadata": {
    "scrolled": true
   },
   "outputs": [],
   "source": [
    "df_model_6.drop([\"Outlet_Establishment_Year\"] , axis= 1 , inplace= True)"
   ]
  },
  {
   "cell_type": "code",
   "execution_count": null,
   "id": "efdd20e8-4724-4239-821e-b9eb03335f8a",
   "metadata": {},
   "outputs": [],
   "source": [
    "df_encoded = df_model_6.copy()\n",
    "label_cols = df_encoded.select_dtypes(include=[\"object\"]).columns\n",
    "\n",
    "le = LabelEncoder()\n",
    "for col in label_cols:\n",
    "    df_encoded[col] = le.fit_transform(df_encoded[col])"
   ]
  },
  {
   "cell_type": "code",
   "execution_count": null,
   "id": "f1e8378f-d63b-42c9-bd66-5e1ff1b32298",
   "metadata": {},
   "outputs": [],
   "source": [
    "X = df_encoded.drop(\"Item_Outlet_Sales\", axis=1)\n",
    "y = df_encoded[\"Item_Outlet_Sales\"]"
   ]
  },
  {
   "cell_type": "code",
   "execution_count": null,
   "id": "0d033143-ac7d-4bfb-9f16-13b2ed243568",
   "metadata": {},
   "outputs": [],
   "source": [
    "X_train, X_test, y_train, y_test = train_test_split(X, y, test_size=0.2, random_state=42)"
   ]
  },
  {
   "cell_type": "code",
   "execution_count": null,
   "id": "eca78cd5-9154-469e-9138-18d9e9977745",
   "metadata": {},
   "outputs": [],
   "source": [
    "model = XGBRegressor(n_estimators=100, learning_rate=0.1, random_state=42)\n",
    "model.fit(X_train, y_train)\n",
    "\n",
    "y_pred = model.predict(X_test)\n",
    "\n",
    "rmse = np.sqrt(mean_squared_error(y_test, y_pred))\n",
    "r2 = r2_score(y_test, y_pred)\n",
    "\n",
    "print(f\"RMSE: {rmse:.2f}\")\n",
    "print(f\"R² Score: {r2:.4f}\")"
   ]
  },
  {
   "cell_type": "code",
   "execution_count": null,
   "id": "1bc63f4c-a75a-4d88-9fdc-4a9a170bb342",
   "metadata": {},
   "outputs": [],
   "source": [
    "# Model 7 MRP"
   ]
  },
  {
   "cell_type": "code",
   "execution_count": null,
   "id": "6ed4ffcc-4257-415c-9a65-0ee826e6ad9e",
   "metadata": {},
   "outputs": [],
   "source": [
    "df_model_7=df_model_4.copy()"
   ]
  },
  {
   "cell_type": "code",
   "execution_count": null,
   "id": "19f5ec3f-0e08-4e44-b1fa-b3df74613df5",
   "metadata": {},
   "outputs": [],
   "source": [
    "#İtem_MRP_Range sütunu ekliyoruz."
   ]
  },
  {
   "cell_type": "code",
   "execution_count": null,
   "id": "97b65de5-67c7-43b2-bb61-61ec4c60c42d",
   "metadata": {},
   "outputs": [],
   "source": [
    "# item_MRP veriyi eşit sayıda gözleme böldük"
   ]
  },
  {
   "cell_type": "code",
   "execution_count": null,
   "id": "b2b099a2-6035-4ce3-b16e-1fc94dc3e6d0",
   "metadata": {},
   "outputs": [],
   "source": [
    "df_model_7[\"Item_MRP\"].describe()"
   ]
  },
  {
   "cell_type": "code",
   "execution_count": null,
   "id": "33f602b1-8b94-4fd1-babc-a6df42d03d1f",
   "metadata": {},
   "outputs": [],
   "source": [
    "# Minimum fiyat: 31 TL\n",
    "# Ortalama: 140 TL\n",
    "# Çeyreklikler:\n",
    "# %25’i 94 TL'den az\n",
    "# %50’si 143 TL'den az\n",
    "# %75’i 185 TL'den az\n",
    "# Ürünlerin çoğunluğu 100–200 TL bandında\n",
    "# Aşırı düşük veya yüksek fiyatlı ürün sayısı az\n"
   ]
  },
  {
   "cell_type": "code",
   "execution_count": null,
   "id": "452eca55-1d19-4a46-b627-1dd4b4b9804a",
   "metadata": {},
   "outputs": [],
   "source": [
    "bins = [0, 90, 140, 200, 300]\n",
    "labels = [\"Low\", \"Medium\", \"High\", \"Very High\"]\n",
    "\n",
    "df_model_7[\"Item_MRP_Range\"] = pd.cut(df_model_7[\"Item_MRP\"], bins=bins, labels=labels)\n"
   ]
  },
  {
   "cell_type": "code",
   "execution_count": null,
   "id": "933e93e1-9024-4c80-95c0-25af6da01ff4",
   "metadata": {},
   "outputs": [],
   "source": [
    "#Item_MRP\tSatış fiyatı ; doğrudan etkili\n",
    "#Item_Visibility\tRaf görünürlüğü ;satış potansiyelini etkileyebilir****BİRAZ\n",
    "#Item_Type\tÜrün türü ;talep farklılıkları***** BAK\n",
    "\n",
    "#Outlet_Location_Type\tBölge ; şehir, köy, kasaba etkisi olabilir**** BELKİ BAK\n",
    "#Outlet_Size\tMağaza büyüklüğü ; stok ve satış etkisi*****"
   ]
  },
  {
   "cell_type": "code",
   "execution_count": null,
   "id": "a173f104-b0e4-414e-8ce8-a7fd59a1913f",
   "metadata": {},
   "outputs": [],
   "source": [
    "df_model_7.info() "
   ]
  },
  {
   "cell_type": "code",
   "execution_count": null,
   "id": "ea12d9b6-c02c-4fde-b36d-ccddffe00049",
   "metadata": {},
   "outputs": [],
   "source": [
    "df_model_7[\"Item_MRP_Range\"] = df_model_7[\"Item_MRP_Range\"].astype(str)\n",
    "# categori tipinde çünkü"
   ]
  },
  {
   "cell_type": "code",
   "execution_count": null,
   "id": "f2e20abf-2fee-4472-b754-b573011ca29c",
   "metadata": {},
   "outputs": [],
   "source": [
    "df_encoded = df_model_7.copy()\n",
    "label_cols = df_encoded.select_dtypes(include=[\"object\"]).columns\n",
    "\n",
    "le = LabelEncoder()\n",
    "for col in label_cols:\n",
    "    df_encoded[col] = le.fit_transform(df_encoded[col])"
   ]
  },
  {
   "cell_type": "code",
   "execution_count": null,
   "id": "1cb998a8-ad28-4f06-8960-1d3cd667aed6",
   "metadata": {},
   "outputs": [],
   "source": [
    "X = df_encoded.drop(\"Item_Outlet_Sales\", axis=1)\n",
    "y = df_encoded[\"Item_Outlet_Sales\"]"
   ]
  },
  {
   "cell_type": "code",
   "execution_count": null,
   "id": "3f471e91-4ca7-44d7-8c45-6409e432f387",
   "metadata": {},
   "outputs": [],
   "source": [
    "X_train, X_test, y_train, y_test = train_test_split(X, y, test_size=0.2, random_state=42)"
   ]
  },
  {
   "cell_type": "code",
   "execution_count": null,
   "id": "cd2ec1f1-9308-40bc-95cd-7328f2d69c0d",
   "metadata": {},
   "outputs": [],
   "source": [
    "model = XGBRegressor(n_estimators=100, learning_rate=0.1, random_state=42)\n",
    "model.fit(X_train, y_train)\n",
    "\n",
    "y_pred = model.predict(X_test)\n",
    "\n",
    "rmse = np.sqrt(mean_squared_error(y_test, y_pred))\n",
    "r2 = r2_score(y_test, y_pred)\n",
    "\n",
    "print(f\"RMSE: {rmse:.2f}\")\n",
    "print(f\"R² Score: {r2:.4f}\")"
   ]
  },
  {
   "cell_type": "code",
   "execution_count": null,
   "id": "f8e560bc-5384-49d7-b702-e15fcd06dda7",
   "metadata": {},
   "outputs": [],
   "source": [
    "# 8. DENEME item MRP DEVAM"
   ]
  },
  {
   "cell_type": "code",
   "execution_count": null,
   "id": "98d87b18-87b9-40fc-9780-af14fe86662f",
   "metadata": {},
   "outputs": [],
   "source": [
    "df_model_8= df_model_4.copy()"
   ]
  },
  {
   "cell_type": "code",
   "execution_count": null,
   "id": "167cf98d-192c-439b-a6e2-acf48662c93c",
   "metadata": {},
   "outputs": [],
   "source": [
    "df_model_8[\"MRP_Visibility\"] = df_model_8[\"Item_MRP\"] * df_model_8[\"Item_Visibility\"]\n",
    "\n",
    "#\"görünürlüğü yüksek ama ucuz ürünler\" farklı davranabilir."
   ]
  },
  {
   "cell_type": "code",
   "execution_count": null,
   "id": "65484cf8-679e-4e2b-bed2-9f984eb56655",
   "metadata": {},
   "outputs": [],
   "source": [
    "df_encoded = df_model_8.copy()\n",
    "label_cols = df_encoded.select_dtypes(include=[\"object\"]).columns\n",
    "\n",
    "le = LabelEncoder()\n",
    "for col in label_cols:\n",
    "    df_encoded[col] = le.fit_transform(df_encoded[col])"
   ]
  },
  {
   "cell_type": "code",
   "execution_count": null,
   "id": "00e21de8-d975-4589-9377-aea522e91a72",
   "metadata": {},
   "outputs": [],
   "source": [
    "X = df_encoded.drop(\"Item_Outlet_Sales\", axis=1)\n",
    "y = df_encoded[\"Item_Outlet_Sales\"]"
   ]
  },
  {
   "cell_type": "code",
   "execution_count": null,
   "id": "d57bcf94-d014-4cee-a692-f5dbedf30b2e",
   "metadata": {},
   "outputs": [],
   "source": [
    "X_train, X_test, y_train, y_test = train_test_split(X, y, test_size=0.2, random_state=42)"
   ]
  },
  {
   "cell_type": "code",
   "execution_count": null,
   "id": "37ef4e3f-4edc-47ed-86e0-d0b5d7599024",
   "metadata": {},
   "outputs": [],
   "source": [
    "model = XGBRegressor(n_estimators=100, learning_rate=0.1, random_state=42)\n",
    "model.fit(X_train, y_train)\n",
    "\n",
    "y_pred = model.predict(X_test)\n",
    "\n",
    "rmse = np.sqrt(mean_squared_error(y_test, y_pred))\n",
    "r2 = r2_score(y_test, y_pred)\n",
    "\n",
    "print(f\"RMSE: {rmse:.2f}\")\n",
    "print(f\"R² Score: {r2:.4f}\")"
   ]
  },
  {
   "cell_type": "code",
   "execution_count": null,
   "id": "9a85d165-9c90-4a95-972f-f53473e09517",
   "metadata": {},
   "outputs": [],
   "source": [
    "# Deneme 9"
   ]
  },
  {
   "cell_type": "code",
   "execution_count": null,
   "id": "98c22db2-40e9-44bc-a0f5-a300ae4020ce",
   "metadata": {},
   "outputs": [],
   "source": [
    "df_model_9 = df_model_4.copy()"
   ]
  },
  {
   "cell_type": "code",
   "execution_count": null,
   "id": "41256c09-2ca5-47fb-af42-b4d08bc91496",
   "metadata": {},
   "outputs": [],
   "source": [
    "df_model_9[\"MRP_per_Weight\"] = df_model_9[\"Item_MRP\"] / df_model_9[\"Item_Weight\"]\n",
    "# Bazı ürünlerin gramajına göre fiyatı daha pahalıdır."
   ]
  },
  {
   "cell_type": "code",
   "execution_count": null,
   "id": "2e2b972b-3bde-49ca-9acd-e51f755c9b62",
   "metadata": {},
   "outputs": [],
   "source": [
    "df_encoded = df_model_9.copy()\n",
    "label_cols = df_encoded.select_dtypes(include=[\"object\"]).columns\n",
    "\n",
    "le = LabelEncoder()\n",
    "for col in label_cols:\n",
    "    df_encoded[col] = le.fit_transform(df_encoded[col])"
   ]
  },
  {
   "cell_type": "code",
   "execution_count": null,
   "id": "5dd91aa1-1f68-443d-873f-693810c2e875",
   "metadata": {},
   "outputs": [],
   "source": [
    "X = df_encoded.drop(\"Item_Outlet_Sales\", axis=1)\n",
    "y = df_encoded[\"Item_Outlet_Sales\"]"
   ]
  },
  {
   "cell_type": "code",
   "execution_count": null,
   "id": "1d7c9009-ad48-40ad-9b8f-9faa9d9f9ff2",
   "metadata": {},
   "outputs": [],
   "source": [
    "X_train, X_test, y_train, y_test = train_test_split(X, y, test_size=0.2, random_state=42)"
   ]
  },
  {
   "cell_type": "code",
   "execution_count": null,
   "id": "a3dc7eb0-6a0b-473f-8cc1-6230c4778338",
   "metadata": {},
   "outputs": [],
   "source": [
    "model = XGBRegressor(n_estimators=100, learning_rate=0.1, random_state=42)\n",
    "model.fit(X_train, y_train)\n",
    "\n",
    "y_pred = model.predict(X_test)\n",
    "\n",
    "rmse = np.sqrt(mean_squared_error(y_test, y_pred))\n",
    "r2 = r2_score(y_test, y_pred)\n",
    "\n",
    "print(f\"RMSE: {rmse:.2f}\")\n",
    "print(f\"R² Score: {r2:.4f}\")"
   ]
  },
  {
   "cell_type": "code",
   "execution_count": null,
   "id": "07d5b447-61a2-49ff-b61c-ad3d90ca7991",
   "metadata": {},
   "outputs": [],
   "source": [
    "# Deneme 10 Uç değer filitereleme"
   ]
  },
  {
   "cell_type": "code",
   "execution_count": null,
   "id": "899ce69a-fa00-44c5-a937-60d3232a1585",
   "metadata": {},
   "outputs": [],
   "source": [
    "df_model_10 =df_model_4.copy()"
   ]
  },
  {
   "cell_type": "code",
   "execution_count": null,
   "id": "97774f18-f606-4211-b884-3967f5e21985",
   "metadata": {},
   "outputs": [],
   "source": [
    "#Uç değer kontrolü\n",
    "plt.figure(figsize=(10,4))\n",
    "sns.boxplot(x=df_model_10[\"Item_MRP\"])\n",
    "plt.title(\"Sales - Boxplot (Uç Değer Göstergesi)\")\n",
    "plt.show()"
   ]
  },
  {
   "cell_type": "code",
   "execution_count": null,
   "id": "cfca1a1e-1a2a-4149-964a-1452281e79df",
   "metadata": {},
   "outputs": [],
   "source": [
    "df_model_10[\"MRP_Is_High\"] = (df_model_10[\"Item_MRP\"] > 250).astype(int)\n"
   ]
  },
  {
   "cell_type": "code",
   "execution_count": null,
   "id": "6fa7457e-1623-4b1e-9c8a-83aac18518d7",
   "metadata": {},
   "outputs": [],
   "source": [
    "df_encoded = df_model_10.copy()\n",
    "label_cols = df_encoded.select_dtypes(include=[\"object\"]).columns\n",
    "\n",
    "le = LabelEncoder()\n",
    "for col in label_cols:\n",
    "    df_encoded[col] = le.fit_transform(df_encoded[col])"
   ]
  },
  {
   "cell_type": "code",
   "execution_count": null,
   "id": "7af121df-b62f-415b-a732-4b49bc94a5fb",
   "metadata": {},
   "outputs": [],
   "source": [
    "X = df_encoded.drop(\"Item_Outlet_Sales\", axis=1)\n",
    "y = df_encoded[\"Item_Outlet_Sales\"]"
   ]
  },
  {
   "cell_type": "code",
   "execution_count": null,
   "id": "80db3589-37ea-44bb-8c18-952de69948c5",
   "metadata": {},
   "outputs": [],
   "source": [
    "X_train, X_test, y_train, y_test = train_test_split(X, y, test_size=0.2, random_state=42)"
   ]
  },
  {
   "cell_type": "code",
   "execution_count": null,
   "id": "7616f14c-ce95-4c5d-994f-feb9666803c4",
   "metadata": {},
   "outputs": [],
   "source": [
    "model = XGBRegressor(n_estimators=100, learning_rate=0.1, random_state=42)\n",
    "model.fit(X_train, y_train)\n",
    "\n",
    "y_pred = model.predict(X_test)\n",
    "\n",
    "rmse = np.sqrt(mean_squared_error(y_test, y_pred))\n",
    "r2 = r2_score(y_test, y_pred)\n",
    "\n",
    "print(f\"RMSE: {rmse:.2f}\")\n",
    "print(f\"R² Score: {r2:.4f}\")"
   ]
  },
  {
   "cell_type": "code",
   "execution_count": null,
   "id": "ef76c9e8-c0a4-4fed-8efa-539999484cf7",
   "metadata": {},
   "outputs": [],
   "source": [
    "# Deneme 11 Item_Outlet_Sales de Uç değer tanımlıyorum"
   ]
  },
  {
   "cell_type": "code",
   "execution_count": null,
   "id": "bb7028b6-9bd0-4007-b3e3-b0cdb51b4208",
   "metadata": {},
   "outputs": [],
   "source": [
    "df_model_11=df_model_4.copy()"
   ]
  },
  {
   "cell_type": "code",
   "execution_count": null,
   "id": "7acc8a5c-e6e7-4bd9-94c6-0af3aef0a025",
   "metadata": {},
   "outputs": [],
   "source": [
    "import seaborn as sns\n",
    "\n",
    "plt.figure(figsize=(10,4))\n",
    "sns.boxplot(x=df_model_11[\"Item_Outlet_Sales\"])\n",
    "plt.title(\"Sales - Boxplot (Uç Değer Göstergesi)\")\n",
    "plt.show()\n"
   ]
  },
  {
   "cell_type": "code",
   "execution_count": null,
   "id": "c32f2261-da11-485c-9c22-af472e87ca05",
   "metadata": {},
   "outputs": [],
   "source": [
    "df_model_11[\"High_Sale\"] = (df_model_11[\"Item_Outlet_Sales\"] > 6000).astype(int)\n"
   ]
  },
  {
   "cell_type": "code",
   "execution_count": null,
   "id": "98352222-bd0b-43f3-bc35-3345861b7c6f",
   "metadata": {},
   "outputs": [],
   "source": [
    "df_encoded = df_model_11.copy()\n",
    "label_cols = df_encoded.select_dtypes(include=[\"object\"]).columns\n",
    "\n",
    "le = LabelEncoder()\n",
    "for col in label_cols:\n",
    "    df_encoded[col] = le.fit_transform(df_encoded[col])"
   ]
  },
  {
   "cell_type": "code",
   "execution_count": null,
   "id": "802b01e9-2d9c-4d9d-b6b3-ba93ca3cf2f0",
   "metadata": {},
   "outputs": [],
   "source": [
    "X = df_encoded.drop(\"Item_Outlet_Sales\", axis=1)\n",
    "y = df_encoded[\"Item_Outlet_Sales\"]"
   ]
  },
  {
   "cell_type": "code",
   "execution_count": null,
   "id": "551b22a1-97a2-4f56-bda5-3cc165bdbac1",
   "metadata": {},
   "outputs": [],
   "source": [
    "X_train, X_test, y_train, y_test = train_test_split(X, y, test_size=0.2, random_state=42)"
   ]
  },
  {
   "cell_type": "code",
   "execution_count": null,
   "id": "c6b58d37-b551-425e-bc61-1f0a46662f39",
   "metadata": {},
   "outputs": [],
   "source": [
    "model = XGBRegressor(n_estimators=100, learning_rate=0.1, random_state=42)\n",
    "model.fit(X_train, y_train)\n",
    "\n",
    "y_pred = model.predict(X_test)\n",
    "\n",
    "rmse = np.sqrt(mean_squared_error(y_test, y_pred))\n",
    "r2 = r2_score(y_test, y_pred)\n",
    "\n",
    "print(f\"RMSE: {rmse:.2f}\")\n",
    "print(f\"R² Score: {r2:.4f}\")"
   ]
  },
  {
   "cell_type": "code",
   "execution_count": null,
   "id": "e02fa0aa-6ec4-42f6-98a5-55ccfbca95fa",
   "metadata": {},
   "outputs": [],
   "source": [
    "#Deneme 13  df_model_4 ile devam"
   ]
  },
  {
   "cell_type": "code",
   "execution_count": null,
   "id": "7bc96a07-0673-4be2-be05-d1093c44e2a0",
   "metadata": {},
   "outputs": [],
   "source": [
    "df_model_13 = df_model_4.copy()"
   ]
  },
  {
   "cell_type": "code",
   "execution_count": null,
   "id": "1221dae7-cc13-4c4d-9684-b1d73e81c353",
   "metadata": {},
   "outputs": [],
   "source": [
    "#df_model_13[\"Is_High_MRP_Premium\"] = ((df_model_13[\"Item_MRP\"] > 200) & (df_model_13[\"Outlet_Type\"] == \"Supermarket Type3\")).astype(int)"
   ]
  },
  {
   "cell_type": "code",
   "execution_count": null,
   "id": "f88ddcaa-74e2-425d-8df1-a469536c1365",
   "metadata": {},
   "outputs": [],
   "source": [
    "df_model_13[\"Is_High_Price\"] = (df_model_13[\"Item_MRP\"] > 200).astype(int)\n"
   ]
  },
  {
   "cell_type": "code",
   "execution_count": null,
   "id": "94a30275-1fa1-4913-aacc-66a3d00b447f",
   "metadata": {},
   "outputs": [],
   "source": [
    "#df_model_13[\"Premium_Outlet\"] = (df_model_13[\"Outlet_Type\"] == \"Supermarket Type3\").astype(int)\n"
   ]
  },
  {
   "cell_type": "code",
   "execution_count": null,
   "id": "f1d5495c-7788-4e3f-b2b4-a7752fa1804a",
   "metadata": {},
   "outputs": [],
   "source": [
    "df_encoded = df_model_13.copy()\n",
    "label_cols = df_encoded.select_dtypes(include=[\"object\"]).columns\n",
    "\n",
    "le = LabelEncoder()\n",
    "for col in label_cols:\n",
    "    df_encoded[col] = le.fit_transform(df_encoded[col])"
   ]
  },
  {
   "cell_type": "code",
   "execution_count": null,
   "id": "a4e0674d-d670-4d20-b687-ba26a4db4b78",
   "metadata": {},
   "outputs": [],
   "source": [
    "X = df_encoded.drop(\"Item_Outlet_Sales\", axis=1)\n",
    "y = df_encoded[\"Item_Outlet_Sales\"]"
   ]
  },
  {
   "cell_type": "code",
   "execution_count": null,
   "id": "8b116046-8cb8-499b-8c06-6142110c7ca7",
   "metadata": {},
   "outputs": [],
   "source": [
    "X_train, X_test, y_train, y_test = train_test_split(X, y, test_size=0.2, random_state=42)"
   ]
  },
  {
   "cell_type": "code",
   "execution_count": null,
   "id": "d62cdf77-4d55-42a3-b1a8-b40e24f58351",
   "metadata": {},
   "outputs": [],
   "source": [
    "model = XGBRegressor(n_estimators=100, learning_rate=0.1, random_state=42)\n",
    "model.fit(X_train, y_train)\n",
    "\n",
    "y_pred = model.predict(X_test)\n",
    "\n",
    "rmse = np.sqrt(mean_squared_error(y_test, y_pred))\n",
    "r2 = r2_score(y_test, y_pred)\n",
    "\n",
    "print(f\"RMSE: {rmse:.2f}\")\n",
    "print(f\"R² Score: {r2:.4f}\")"
   ]
  },
  {
   "cell_type": "code",
   "execution_count": null,
   "id": "913029bf-ae2f-4744-a65a-4334d7abaed9",
   "metadata": {},
   "outputs": [],
   "source": [
    "#Deneme 14"
   ]
  },
  {
   "cell_type": "code",
   "execution_count": null,
   "id": "8c964231-9e38-4b2c-8ad7-f703f28869fc",
   "metadata": {},
   "outputs": [],
   "source": [
    "df_model_14 = df_model_4.copy()"
   ]
  },
  {
   "cell_type": "code",
   "execution_count": null,
   "id": "09d1e8f3-00ce-4f97-9b91-618bb419bbdf",
   "metadata": {},
   "outputs": [],
   "source": [
    "# Orijinal veriden \"Item_Identifier\"  sütununu geri aldım\n",
    "df_model_14[\"Item_Identifier\"] = df_train.loc[df_model_14.index, \"Item_Identifier\"]\n",
    "\n",
    "# İlk 2 harfini alarak yeni bir kategori üretim\n",
    "df_model_14[\"Item_Code_Type\"] = df_model_14[\"Item_Identifier\"].str[:2]\n"
   ]
  },
  {
   "cell_type": "code",
   "execution_count": null,
   "id": "57113968-6dcc-48a3-a23a-d8ff9e985ae8",
   "metadata": {},
   "outputs": [],
   "source": [
    "#  Item_Category: Ürün kimliğinden kategori çıkartalım\n",
    "df_model_14[\"Item_Code_Type\"] = df_model_14[\"Item_Identifier\"].apply(lambda x: x[:2])\n",
    "df_model_14[\"Item_Code_Type\"] = df_model_14[\"Item_Code_Type\"].map({\n",
    "    \"FD\": \"Food\", \n",
    "    \"DR\": \"Drinks\", \n",
    "    \"NC\": \"Non-Consumable\"\n",
    "})"
   ]
  },
  {
   "cell_type": "code",
   "execution_count": null,
   "id": "9980c8bc-8494-494a-be9c-f50a1c440ca2",
   "metadata": {},
   "outputs": [],
   "source": [
    "df_model_14.drop([\"Item_Identifier\"], axis=1, inplace=True)"
   ]
  },
  {
   "cell_type": "code",
   "execution_count": null,
   "id": "0e9f5e28-25fc-4377-839b-ddc50f5763d8",
   "metadata": {},
   "outputs": [],
   "source": [
    "df_model_14.drop([\"Item_Type\"], axis=1, inplace=True)"
   ]
  },
  {
   "cell_type": "code",
   "execution_count": null,
   "id": "b011b984-9a8a-421f-83a2-411fabf30c73",
   "metadata": {},
   "outputs": [],
   "source": [
    "df_encoded = df_model_14.copy()\n",
    "label_cols = df_encoded.select_dtypes(include=[\"object\"]).columns\n",
    "\n",
    "le = LabelEncoder()\n",
    "for col in label_cols:\n",
    "    df_encoded[col] = le.fit_transform(df_encoded[col])"
   ]
  },
  {
   "cell_type": "code",
   "execution_count": null,
   "id": "9a7bb6ea-c0c3-4354-8098-8be428dd5189",
   "metadata": {},
   "outputs": [],
   "source": [
    "X = df_encoded.drop(\"Item_Outlet_Sales\", axis=1)\n",
    "y = df_encoded[\"Item_Outlet_Sales\"]"
   ]
  },
  {
   "cell_type": "code",
   "execution_count": null,
   "id": "1458bf7c-13ed-4a0a-aa43-7b38c8ba2e43",
   "metadata": {},
   "outputs": [],
   "source": [
    "X_train, X_test, y_train, y_test = train_test_split(X, y, test_size=0.2, random_state=42)"
   ]
  },
  {
   "cell_type": "code",
   "execution_count": null,
   "id": "1be2bc90-7522-4bd6-8a2e-829597f54376",
   "metadata": {},
   "outputs": [],
   "source": [
    "model = XGBRegressor(n_estimators=100, learning_rate=0.1, random_state=42)\n",
    "model.fit(X_train, y_train)\n",
    "\n",
    "y_pred = model.predict(X_test)\n",
    "\n",
    "rmse = np.sqrt(mean_squared_error(y_test, y_pred))\n",
    "r2 = r2_score(y_test, y_pred)\n",
    "\n",
    "print(f\"RMSE: {rmse:.2f}\")\n",
    "print(f\"R² Score: {r2:.4f}\")"
   ]
  },
  {
   "cell_type": "code",
   "execution_count": null,
   "id": "4ede7e40-a639-46bd-97bd-849d2879dffa",
   "metadata": {},
   "outputs": [],
   "source": [
    "# DENEME 15\n",
    "#Yüksek fiyat yüksek görürnürlük deniyoruz."
   ]
  },
  {
   "cell_type": "code",
   "execution_count": null,
   "id": "40e74ec0-0a94-4a01-ad3f-f86b8de4e54a",
   "metadata": {},
   "outputs": [],
   "source": [
    "df_model_15 = df_model_6.copy()"
   ]
  },
  {
   "cell_type": "code",
   "execution_count": null,
   "id": "152eebfb-5792-4cdb-bda8-3ad75f5fb6e6",
   "metadata": {},
   "outputs": [],
   "source": [
    "df_model_15[\"Is_New_Store\"] = (df_model_15[\"Outlet_Age\"] < 10).astype(int)"
   ]
  },
  {
   "cell_type": "code",
   "execution_count": null,
   "id": "1b0cb9ff-6818-4c43-a8b5-6d7a7f61e713",
   "metadata": {},
   "outputs": [],
   "source": [
    "#df_model_6[\"Price_Visibility\"] = df_model_6[\"Item_MRP\"] * df_model_6[\"Item_Visibility\"]\n"
   ]
  },
  {
   "cell_type": "code",
   "execution_count": null,
   "id": "f40cfb8f-43ed-4cec-8f58-2533f5d7bdb0",
   "metadata": {},
   "outputs": [],
   "source": [
    "#df_model_6.drop([\"Price_Visibility\"], axis=1, inplace=True)"
   ]
  },
  {
   "cell_type": "code",
   "execution_count": null,
   "id": "15338624-dab0-43c6-a842-1d6b3cd96af9",
   "metadata": {},
   "outputs": [],
   "source": [
    "# df_model_6[\"Weight_Visibility\"] = df_model_6[\"Item_Weight\"] * df_model_6[\"Item_Visibility\"]"
   ]
  },
  {
   "cell_type": "code",
   "execution_count": null,
   "id": "ca2dcae2-553c-4224-80bd-5c0b470c3878",
   "metadata": {},
   "outputs": [],
   "source": [
    "df_encoded = df_model_15.copy()\n",
    "label_cols = df_encoded.select_dtypes(include=[\"object\"]).columns\n",
    "\n",
    "le = LabelEncoder()\n",
    "for col in label_cols:\n",
    "    df_encoded[col] = le.fit_transform(df_encoded[col])"
   ]
  },
  {
   "cell_type": "code",
   "execution_count": null,
   "id": "086afd2e-e972-458a-88c2-a7d8fb114963",
   "metadata": {},
   "outputs": [],
   "source": [
    "X = df_encoded.drop(\"Item_Outlet_Sales\", axis=1)\n",
    "y = df_encoded[\"Item_Outlet_Sales\"]"
   ]
  },
  {
   "cell_type": "code",
   "execution_count": null,
   "id": "eb24b13e-c430-478d-9d38-7af2e07bfe17",
   "metadata": {},
   "outputs": [],
   "source": [
    "X_train, X_test, y_train, y_test = train_test_split(X, y, test_size=0.2, random_state=42)"
   ]
  },
  {
   "cell_type": "code",
   "execution_count": null,
   "id": "eaf39adc-b08f-4320-8543-46a6af24ba68",
   "metadata": {},
   "outputs": [],
   "source": [
    "model = XGBRegressor(n_estimators=100, learning_rate=0.1, random_state=42)\n",
    "model.fit(X_train, y_train)\n",
    "\n",
    "y_pred = model.predict(X_test)\n",
    "\n",
    "rmse = np.sqrt(mean_squared_error(y_test, y_pred))\n",
    "r2 = r2_score(y_test, y_pred)\n",
    "\n",
    "print(f\"RMSE: {rmse:.2f}\")\n",
    "print(f\"R² Score: {r2:.4f}\")"
   ]
  },
  {
   "cell_type": "code",
   "execution_count": null,
   "id": "25069b55-341d-459d-a521-d8ac378c6e68",
   "metadata": {},
   "outputs": [],
   "source": [
    "#Denemme 16\n",
    "df_model_16 = df_model_13.copy()"
   ]
  },
  {
   "cell_type": "code",
   "execution_count": null,
   "id": "a2e40f78-9c97-4dcb-958d-4a88f1fcf9b2",
   "metadata": {},
   "outputs": [],
   "source": [
    "df_model_16[\"Is_High_MRP\"] = df_model_16[\"Is_High_Price\"] * df_model_16[\"Item_MRP\"]\n",
    "\n",
    "#“Pahalı ürünler arasında fiyattaki artış satışları nasıl etkiliyor?”\n",
    "#Ucuz ürünlerde MRP değişimi o kadar etkili olmayabilir"
   ]
  },
  {
   "cell_type": "code",
   "execution_count": null,
   "id": "7af22305-6797-4fab-83af-135252ad2a10",
   "metadata": {},
   "outputs": [],
   "source": [
    "df_encoded = df_model_16.copy()\n",
    "label_cols = df_encoded.select_dtypes(include=[\"object\"]).columns\n",
    "\n",
    "le = LabelEncoder()\n",
    "for col in label_cols:\n",
    "    df_encoded[col] = le.fit_transform(df_encoded[col])"
   ]
  },
  {
   "cell_type": "code",
   "execution_count": null,
   "id": "b4fd3d3f-82dc-4e19-9dbf-f0bc1f028e41",
   "metadata": {},
   "outputs": [],
   "source": [
    "X = df_encoded.drop(\"Item_Outlet_Sales\", axis=1)\n",
    "y = df_encoded[\"Item_Outlet_Sales\"]"
   ]
  },
  {
   "cell_type": "code",
   "execution_count": null,
   "id": "43716aec-16aa-4234-8a91-07997b37dc88",
   "metadata": {},
   "outputs": [],
   "source": [
    "X_train, X_test, y_train, y_test = train_test_split(X, y, test_size=0.2, random_state=42)"
   ]
  },
  {
   "cell_type": "code",
   "execution_count": null,
   "id": "e38282dc-b84c-479d-8609-8c715e11a8a8",
   "metadata": {},
   "outputs": [],
   "source": [
    "model = XGBRegressor(n_estimators=100, learning_rate=0.1, random_state=42)\n",
    "model.fit(X_train, y_train)\n",
    "\n",
    "y_pred = model.predict(X_test)\n",
    "\n",
    "rmse = np.sqrt(mean_squared_error(y_test, y_pred))\n",
    "r2 = r2_score(y_test, y_pred)\n",
    "\n",
    "print(f\"RMSE: {rmse:.2f}\")\n",
    "print(f\"R² Score: {r2:.4f}\")"
   ]
  },
  {
   "cell_type": "code",
   "execution_count": null,
   "id": "71acce45-23cc-4a77-ad18-755409eb5e26",
   "metadata": {},
   "outputs": [],
   "source": [
    "#Deneme 17 İLE DEVAM ET"
   ]
  },
  {
   "cell_type": "code",
   "execution_count": null,
   "id": "eaa5080f-704d-4290-9f63-96ff86a904f7",
   "metadata": {},
   "outputs": [],
   "source": [
    "df_model_17= df_model_13.copy()"
   ]
  },
  {
   "cell_type": "code",
   "execution_count": null,
   "id": "95c61dfd-0ddb-4d09-931f-b48f5d205d09",
   "metadata": {},
   "outputs": [],
   "source": [
    "\n",
    "df_model_17[\"Price_Location_Interaction\"] = df_model_17[\"Is_High_Price\"] * df_model_17[\"Outlet_Location_Type\"]\n",
    "#lokasyon seviyesi ürün pahalı  mi?"
   ]
  },
  {
   "cell_type": "code",
   "execution_count": null,
   "id": "d858ba47-239c-4bd0-a009-74037a6aa7df",
   "metadata": {},
   "outputs": [],
   "source": [
    "df_encoded = df_model_17.copy()\n",
    "label_cols = df_encoded.select_dtypes(include=[\"object\"]).columns\n",
    "\n",
    "le = LabelEncoder()\n",
    "for col in label_cols:\n",
    "    df_encoded[col] = le.fit_transform(df_encoded[col])"
   ]
  },
  {
   "cell_type": "code",
   "execution_count": null,
   "id": "164659f8-f7e3-4c77-8683-bff455d322cd",
   "metadata": {},
   "outputs": [],
   "source": [
    "X = df_encoded.drop(\"Item_Outlet_Sales\", axis=1)\n",
    "y = df_encoded[\"Item_Outlet_Sales\"]"
   ]
  },
  {
   "cell_type": "code",
   "execution_count": null,
   "id": "33e0b02f-72cc-417a-b8f2-6c2b9a42033a",
   "metadata": {},
   "outputs": [],
   "source": [
    "X_train, X_test, y_train, y_test = train_test_split(X, y, test_size=0.2, random_state=42)"
   ]
  },
  {
   "cell_type": "code",
   "execution_count": null,
   "id": "68fc6795-855c-4199-8306-70e076d31588",
   "metadata": {},
   "outputs": [],
   "source": [
    "model = XGBRegressor(n_estimators=100, learning_rate=0.1, random_state=42)\n",
    "model.fit(X_train, y_train)\n",
    "\n",
    "y_pred = model.predict(X_test)\n",
    "\n",
    "rmse = np.sqrt(mean_squared_error(y_test, y_pred))\n",
    "r2 = r2_score(y_test, y_pred)\n",
    "\n",
    "print(f\"RMSE: {rmse:.2f}\")\n",
    "print(f\"R² Score: {r2:.4f}\")"
   ]
  },
  {
   "cell_type": "code",
   "execution_count": null,
   "id": "ccfc9acc-7230-48a4-9be1-f149a82df7d0",
   "metadata": {},
   "outputs": [],
   "source": [
    "# GRİD"
   ]
  },
  {
   "cell_type": "code",
   "execution_count": null,
   "id": "9074e23c-3327-4f3e-a3f8-ecc523a55cd2",
   "metadata": {},
   "outputs": [],
   "source": [
    "df_final = df_model_4.copy()\n"
   ]
  },
  {
   "cell_type": "code",
   "execution_count": null,
   "id": "72f82a46-44f2-4a95-9073-04a6d56d05d8",
   "metadata": {},
   "outputs": [],
   "source": [
    "from sklearn.preprocessing import LabelEncoder\n",
    "\n",
    "label_cols = df_final.select_dtypes(include=[\"object\"]).columns \n",
    "\n",
    "le = LabelEncoder()\n",
    "for col in label_cols:\n",
    "    df_final[col] = le.fit_transform(df_final[col])\n"
   ]
  },
  {
   "cell_type": "code",
   "execution_count": null,
   "id": "97ec5afb-e9c9-4f71-b1e1-fff65d70cc8e",
   "metadata": {},
   "outputs": [],
   "source": [
    "X = df_final.drop(\"Item_Outlet_Sales\", axis=1)\n",
    "y = df_final[\"Item_Outlet_Sales\"]\n"
   ]
  },
  {
   "cell_type": "code",
   "execution_count": null,
   "id": "73bef6bd-6eac-456c-b3b6-7bb4e029842e",
   "metadata": {},
   "outputs": [],
   "source": [
    "from sklearn.model_selection import train_test_split\n",
    "\n",
    "X_train, X_test, y_train, y_test = train_test_split(X, y, test_size=0.2, random_state=42)\n"
   ]
  },
  {
   "cell_type": "code",
   "execution_count": null,
   "id": "386a2975-e7fe-40c4-a2f5-66d66f187f5b",
   "metadata": {},
   "outputs": [],
   "source": [
    "from xgboost import XGBRegressor\n",
    "from sklearn.model_selection import GridSearchCV\n",
    "\n",
    "xgb = XGBRegressor(random_state=42)\n",
    "\n",
    "param_grid = {\n",
    "    \"n_estimators\": [100, 200],\n",
    "    \"learning_rate\": [0.05, 0.1],\n",
    "    \"max_depth\": [3, 5]\n",
    "}\n",
    "\n",
    "grid = GridSearchCV(xgb, param_grid, cv=5, scoring=\"neg_root_mean_squared_error\")\n",
    "grid.fit(X_train, y_train)\n",
    "\n",
    "print(\"Best Parameters:\", grid.best_params_)\n",
    "best_model = grid.best_estimator_\n"
   ]
  },
  {
   "cell_type": "code",
   "execution_count": null,
   "id": "aff5cbdf-571b-4229-8799-343e0243d18f",
   "metadata": {},
   "outputs": [],
   "source": [
    "from sklearn.metrics import mean_squared_error, r2_score\n",
    "\n",
    "\n",
    "y_pred = best_model.predict(X_test)\n",
    "rmse = np.sqrt(mean_squared_error(y_test, y_pred))\n",
    "r2 = r2_score(y_test, y_pred)\n",
    "\n",
    "print(f\"RMSE: {rmse:.2f}\")\n",
    "print(f\"R² Score: {r2:.4f}\")\n"
   ]
  },
  {
   "cell_type": "code",
   "execution_count": null,
   "id": "d92a4658-de53-43cf-a43a-f9397e419765",
   "metadata": {},
   "outputs": [],
   "source": [
    "import joblib\n",
    "joblib.dump(best_model, \"xgb_final_model.pkl\")\n"
   ]
  },
  {
   "cell_type": "code",
   "execution_count": null,
   "id": "ceb3c576-0409-4afb-9ed9-e2009c1e986e",
   "metadata": {},
   "outputs": [],
   "source": [
    "raise systemExit"
   ]
  },
  {
   "cell_type": "code",
   "execution_count": null,
   "id": "fb350c32-5d50-4d42-bf5b-6aa8c418c3e9",
   "metadata": {},
   "outputs": [],
   "source": [
    "# Teste geçelim"
   ]
  },
  {
   "cell_type": "code",
   "execution_count": null,
   "id": "a86a9c05-6352-44c0-86fa-605aa65b4891",
   "metadata": {},
   "outputs": [],
   "source": [
    "df_test= pd.read_csv(\"C:/Users/User/Desktop/BigMartMacinelearning/Test.csv\")"
   ]
  },
  {
   "cell_type": "code",
   "execution_count": null,
   "id": "9d038571-34e9-42f2-82aa-d7b6200c0e09",
   "metadata": {},
   "outputs": [],
   "source": [
    "# Aynı Item_Identifier'e sahip ürünlerin ortalama ağırlığı ile eksikleri dolduralım\n",
    "df_test[\"Item_Weight\"].fillna(df_test.groupby(\"Item_Identifier\")[\"Item_Weight\"].transform(\"mean\"), inplace=True)"
   ]
  },
  {
   "cell_type": "code",
   "execution_count": null,
   "id": "d0414c17-c851-4247-88aa-044e417ada4c",
   "metadata": {},
   "outputs": [],
   "source": [
    "# Aynı Outlet_Type'e göre en sık geçen  değeri kullanarak eksikleri dolduralım\n",
    "mode_outlet_size = df_test.pivot_table(values=\"Outlet_Size\", index=\"Outlet_Type\", aggfunc=lambda x: x.mode()[0])"
   ]
  },
  {
   "cell_type": "code",
   "execution_count": null,
   "id": "315f146e-a255-446b-ad9a-d469389b00d0",
   "metadata": {},
   "outputs": [],
   "source": [
    "missing_outlet_mask = df_test[\"Outlet_Size\"].isnull()\n",
    "\n",
    "df_test.loc[missing_outlet_mask, \"Outlet_Size\"] = df_test.loc[missing_outlet_mask, \"Outlet_Type\"].map(mode_outlet_size.to_dict()[\"Outlet_Size\"])"
   ]
  },
  {
   "cell_type": "code",
   "execution_count": null,
   "id": "696f2e04-22b5-4938-99a7-e8e02dca7871",
   "metadata": {},
   "outputs": [],
   "source": [
    "df_test.isnull().sum()"
   ]
  },
  {
   "cell_type": "code",
   "execution_count": null,
   "id": "554032b6-3c0d-4d26-a11d-c957f1eac122",
   "metadata": {},
   "outputs": [],
   "source": [
    "df_test[\"Item_Weight\"].fillna(df_test[\"Item_Weight\"].mean(), inplace=True)\n",
    "# 20 satır hala boş"
   ]
  },
  {
   "cell_type": "code",
   "execution_count": null,
   "id": "ac35bb9a-d836-4253-bccf-a06b1ac65b94",
   "metadata": {},
   "outputs": [],
   "source": [
    "df_test[\"Item_Fat_Content\"] = df_test[\"Item_Fat_Content\"].replace({\n",
    "    \"LF\": \"Low Fat\",\n",
    "    \"low fat\": \"Low Fat\",\n",
    "    \"reg\": \"Regular\"\n",
    "})"
   ]
  },
  {
   "cell_type": "code",
   "execution_count": null,
   "id": "0c240eae-1732-4545-8378-34df3b3be059",
   "metadata": {},
   "outputs": [],
   "source": [
    "df_test[\"Item_Fat_Content\"].unique()"
   ]
  },
  {
   "cell_type": "code",
   "execution_count": null,
   "id": "23465cf0-4da6-4e5a-9fb5-79214a0eaa05",
   "metadata": {},
   "outputs": [],
   "source": [
    "df_test[\"Is_Visibility_Zero\"] = (df_test[\"Item_Visibility\"] == 0).astype(int)"
   ]
  },
  {
   "cell_type": "code",
   "execution_count": null,
   "id": "f7881f9b-4bfe-43b4-af10-35b40cdcafe8",
   "metadata": {},
   "outputs": [],
   "source": [
    "# 1. Eğitim setinden görünürlük ortalamalarını al\n",
    "visibility_means = df_train.groupby(\"Item_Identifier\")[\"Item_Visibility\"].mean()\n",
    "\n",
    "# 2. Test setinde 0 olanları eğitim ortalamasına göre düzelt\n",
    "df_test[\"Item_Visibility\"] = df_test.apply(\n",
    "    lambda row: visibility_means.get(row[\"Item_Identifier\"], row[\"Item_Visibility\"])\n",
    "    if row[\"Item_Visibility\"] == 0 else row[\"Item_Visibility\"],\n",
    "    axis=1\n",
    ")\n",
    "\n",
    "# 3. Kontrol: 0 kaldı mı?\n",
    "zero_visibility_count = (df_test[\"Item_Visibility\"] == 0).sum()\n",
    "print(f\"0 olan satır sayısı: {zero_visibility_count}\")\n"
   ]
  },
  {
   "cell_type": "code",
   "execution_count": null,
   "id": "e746f73d-17b7-4bff-a7c8-d7b7d555710d",
   "metadata": {},
   "outputs": [],
   "source": [
    "# bazı sütunları drop edelim\n",
    "df_test.drop([\"Outlet_Establishment_Year\"], axis=1, inplace=True)"
   ]
  },
  {
   "cell_type": "code",
   "execution_count": null,
   "id": "8969e2cb-2357-4d7f-8130-da7424e5785e",
   "metadata": {},
   "outputs": [],
   "source": [
    "df_test_encoded = df_test.copy()\n",
    "\n",
    "label_cols = df_test_encoded.select_dtypes(include=[\"object\"]).columns\n",
    "\n",
    "from sklearn.preprocessing import LabelEncoder\n",
    "\n",
    "for col in label_cols:\n",
    "    le = LabelEncoder()\n",
    "    le.fit(df_train[col])  # Eğitim setindeki sıralamayı öğren\n",
    "    df_test_encoded[col] = le.transform(df_test_encoded[col])"
   ]
  },
  {
   "cell_type": "code",
   "execution_count": null,
   "id": "b642ce24-53ca-47ed-bc8f-05d5059c2c65",
   "metadata": {},
   "outputs": [],
   "source": [
    "X_test_final = df_test_encoded[X.columns]\n"
   ]
  },
  {
   "cell_type": "code",
   "execution_count": null,
   "id": "ab82488b-011b-46af-b3f7-25b408a818a2",
   "metadata": {},
   "outputs": [],
   "source": [
    "y_test_pred = best_model.predict(X_test_final)\n"
   ]
  },
  {
   "cell_type": "code",
   "execution_count": null,
   "id": "1eba28c2-33d4-4f34-a4ae-95197bbaffcf",
   "metadata": {},
   "outputs": [],
   "source": [
    "submission = pd.DataFrame({\n",
    "    \"Item_Identifier\": df_test[\"Item_Identifier\"],\n",
    "    \"Outlet_Identifier\": df_test[\"Outlet_Identifier\"],\n",
    "    \"Item_Outlet_Sales\": y_test_pred\n",
    "})\n",
    "\n",
    "submission.to_csv(\"submission.csv\", index=False)\n"
   ]
  },
  {
   "cell_type": "code",
   "execution_count": null,
   "id": "7138b042-0165-4d19-a1ea-e4c999db0331",
   "metadata": {},
   "outputs": [],
   "source": []
  }
 ],
 "metadata": {
  "kernelspec": {
   "display_name": "Python 3 (ipykernel)",
   "language": "python",
   "name": "python3"
  },
  "language_info": {
   "codemirror_mode": {
    "name": "ipython",
    "version": 3
   },
   "file_extension": ".py",
   "mimetype": "text/x-python",
   "name": "python",
   "nbconvert_exporter": "python",
   "pygments_lexer": "ipython3",
   "version": "3.11.7"
  }
 },
 "nbformat": 4,
 "nbformat_minor": 5
}
